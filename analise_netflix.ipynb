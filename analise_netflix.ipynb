{
 "cells": [
  {
   "attachments": {},
   "cell_type": "markdown",
   "id": "03705468",
   "metadata": {},
   "source": [
    "# Análise de Dados Netflix"
   ]
  },
  {
   "attachments": {},
   "cell_type": "markdown",
   "id": "075569ff",
   "metadata": {},
   "source": [
    "# Carregamento e tratamento de dados"
   ]
  },
  {
   "cell_type": "code",
   "execution_count": 222,
   "id": "c6b9fe5a",
   "metadata": {},
   "outputs": [],
   "source": [
    "import pandas as pd\n",
    "import numpy as np\n",
    "import matplotlib.pyplot as plt\n",
    "import seaborn as sns"
   ]
  },
  {
   "cell_type": "code",
   "execution_count": 223,
   "id": "043896fb",
   "metadata": {},
   "outputs": [],
   "source": [
    "df = pd.read_csv('netflix.csv', parse_dates=['date_added'])"
   ]
  },
  {
   "cell_type": "code",
   "execution_count": 224,
   "id": "ef1d21d2",
   "metadata": {},
   "outputs": [
    {
     "data": {
      "text/html": [
       "<div>\n",
       "<style scoped>\n",
       "    .dataframe tbody tr th:only-of-type {\n",
       "        vertical-align: middle;\n",
       "    }\n",
       "\n",
       "    .dataframe tbody tr th {\n",
       "        vertical-align: top;\n",
       "    }\n",
       "\n",
       "    .dataframe thead th {\n",
       "        text-align: right;\n",
       "    }\n",
       "</style>\n",
       "<table border=\"1\" class=\"dataframe\">\n",
       "  <thead>\n",
       "    <tr style=\"text-align: right;\">\n",
       "      <th></th>\n",
       "      <th>show_id</th>\n",
       "      <th>type</th>\n",
       "      <th>title</th>\n",
       "      <th>director</th>\n",
       "      <th>cast</th>\n",
       "      <th>country</th>\n",
       "      <th>date_added</th>\n",
       "      <th>release_year</th>\n",
       "      <th>rating</th>\n",
       "      <th>duration</th>\n",
       "      <th>listed_in</th>\n",
       "      <th>description</th>\n",
       "    </tr>\n",
       "  </thead>\n",
       "  <tbody>\n",
       "    <tr>\n",
       "      <th>0</th>\n",
       "      <td>s1</td>\n",
       "      <td>Movie</td>\n",
       "      <td>Dick Johnson Is Dead</td>\n",
       "      <td>Kirsten Johnson</td>\n",
       "      <td>NaN</td>\n",
       "      <td>United States</td>\n",
       "      <td>September 25, 2021</td>\n",
       "      <td>2020</td>\n",
       "      <td>PG-13</td>\n",
       "      <td>90 min</td>\n",
       "      <td>Documentaries</td>\n",
       "      <td>As her father nears the end of his life, filmm...</td>\n",
       "    </tr>\n",
       "    <tr>\n",
       "      <th>1</th>\n",
       "      <td>s2</td>\n",
       "      <td>TV Show</td>\n",
       "      <td>Blood &amp; Water</td>\n",
       "      <td>NaN</td>\n",
       "      <td>Ama Qamata, Khosi Ngema, Gail Mabalane, Thaban...</td>\n",
       "      <td>South Africa</td>\n",
       "      <td>September 24, 2021</td>\n",
       "      <td>2021</td>\n",
       "      <td>TV-MA</td>\n",
       "      <td>2 Seasons</td>\n",
       "      <td>International TV Shows, TV Dramas, TV Mysteries</td>\n",
       "      <td>After crossing paths at a party, a Cape Town t...</td>\n",
       "    </tr>\n",
       "    <tr>\n",
       "      <th>2</th>\n",
       "      <td>s3</td>\n",
       "      <td>TV Show</td>\n",
       "      <td>Ganglands</td>\n",
       "      <td>Julien Leclercq</td>\n",
       "      <td>Sami Bouajila, Tracy Gotoas, Samuel Jouy, Nabi...</td>\n",
       "      <td>NaN</td>\n",
       "      <td>September 24, 2021</td>\n",
       "      <td>2021</td>\n",
       "      <td>TV-MA</td>\n",
       "      <td>1 Season</td>\n",
       "      <td>Crime TV Shows, International TV Shows, TV Act...</td>\n",
       "      <td>To protect his family from a powerful drug lor...</td>\n",
       "    </tr>\n",
       "    <tr>\n",
       "      <th>3</th>\n",
       "      <td>s4</td>\n",
       "      <td>TV Show</td>\n",
       "      <td>Jailbirds New Orleans</td>\n",
       "      <td>NaN</td>\n",
       "      <td>NaN</td>\n",
       "      <td>NaN</td>\n",
       "      <td>September 24, 2021</td>\n",
       "      <td>2021</td>\n",
       "      <td>TV-MA</td>\n",
       "      <td>1 Season</td>\n",
       "      <td>Docuseries, Reality TV</td>\n",
       "      <td>Feuds, flirtations and toilet talk go down amo...</td>\n",
       "    </tr>\n",
       "    <tr>\n",
       "      <th>4</th>\n",
       "      <td>s5</td>\n",
       "      <td>TV Show</td>\n",
       "      <td>Kota Factory</td>\n",
       "      <td>NaN</td>\n",
       "      <td>Mayur More, Jitendra Kumar, Ranjan Raj, Alam K...</td>\n",
       "      <td>India</td>\n",
       "      <td>September 24, 2021</td>\n",
       "      <td>2021</td>\n",
       "      <td>TV-MA</td>\n",
       "      <td>2 Seasons</td>\n",
       "      <td>International TV Shows, Romantic TV Shows, TV ...</td>\n",
       "      <td>In a city of coaching centers known to train I...</td>\n",
       "    </tr>\n",
       "  </tbody>\n",
       "</table>\n",
       "</div>"
      ],
      "text/plain": [
       "  show_id     type                  title         director   \n",
       "0      s1    Movie   Dick Johnson Is Dead  Kirsten Johnson  \\\n",
       "1      s2  TV Show          Blood & Water              NaN   \n",
       "2      s3  TV Show              Ganglands  Julien Leclercq   \n",
       "3      s4  TV Show  Jailbirds New Orleans              NaN   \n",
       "4      s5  TV Show           Kota Factory              NaN   \n",
       "\n",
       "                                                cast        country   \n",
       "0                                                NaN  United States  \\\n",
       "1  Ama Qamata, Khosi Ngema, Gail Mabalane, Thaban...   South Africa   \n",
       "2  Sami Bouajila, Tracy Gotoas, Samuel Jouy, Nabi...            NaN   \n",
       "3                                                NaN            NaN   \n",
       "4  Mayur More, Jitendra Kumar, Ranjan Raj, Alam K...          India   \n",
       "\n",
       "           date_added  release_year rating   duration   \n",
       "0  September 25, 2021          2020  PG-13     90 min  \\\n",
       "1  September 24, 2021          2021  TV-MA  2 Seasons   \n",
       "2  September 24, 2021          2021  TV-MA   1 Season   \n",
       "3  September 24, 2021          2021  TV-MA   1 Season   \n",
       "4  September 24, 2021          2021  TV-MA  2 Seasons   \n",
       "\n",
       "                                           listed_in   \n",
       "0                                      Documentaries  \\\n",
       "1    International TV Shows, TV Dramas, TV Mysteries   \n",
       "2  Crime TV Shows, International TV Shows, TV Act...   \n",
       "3                             Docuseries, Reality TV   \n",
       "4  International TV Shows, Romantic TV Shows, TV ...   \n",
       "\n",
       "                                         description  \n",
       "0  As her father nears the end of his life, filmm...  \n",
       "1  After crossing paths at a party, a Cape Town t...  \n",
       "2  To protect his family from a powerful drug lor...  \n",
       "3  Feuds, flirtations and toilet talk go down amo...  \n",
       "4  In a city of coaching centers known to train I...  "
      ]
     },
     "execution_count": 224,
     "metadata": {},
     "output_type": "execute_result"
    }
   ],
   "source": [
    "df.head()"
   ]
  },
  {
   "cell_type": "code",
   "execution_count": 150,
   "id": "c5bef593",
   "metadata": {},
   "outputs": [
    {
     "data": {
      "text/html": [
       "<div>\n",
       "<style scoped>\n",
       "    .dataframe tbody tr th:only-of-type {\n",
       "        vertical-align: middle;\n",
       "    }\n",
       "\n",
       "    .dataframe tbody tr th {\n",
       "        vertical-align: top;\n",
       "    }\n",
       "\n",
       "    .dataframe thead th {\n",
       "        text-align: right;\n",
       "    }\n",
       "</style>\n",
       "<table border=\"1\" class=\"dataframe\">\n",
       "  <thead>\n",
       "    <tr style=\"text-align: right;\">\n",
       "      <th></th>\n",
       "      <th>show_id</th>\n",
       "      <th>type</th>\n",
       "      <th>title</th>\n",
       "      <th>director</th>\n",
       "      <th>cast</th>\n",
       "      <th>country</th>\n",
       "      <th>date_added</th>\n",
       "      <th>release_year</th>\n",
       "      <th>rating</th>\n",
       "      <th>duration</th>\n",
       "      <th>listed_in</th>\n",
       "      <th>description</th>\n",
       "    </tr>\n",
       "  </thead>\n",
       "  <tbody>\n",
       "    <tr>\n",
       "      <th>8802</th>\n",
       "      <td>s8803</td>\n",
       "      <td>Movie</td>\n",
       "      <td>Zodiac</td>\n",
       "      <td>David Fincher</td>\n",
       "      <td>Mark Ruffalo, Jake Gyllenhaal, Robert Downey J...</td>\n",
       "      <td>United States</td>\n",
       "      <td>November 20, 2019</td>\n",
       "      <td>2007</td>\n",
       "      <td>R</td>\n",
       "      <td>158 min</td>\n",
       "      <td>Cult Movies, Dramas, Thrillers</td>\n",
       "      <td>A political cartoonist, a crime reporter and a...</td>\n",
       "    </tr>\n",
       "    <tr>\n",
       "      <th>8803</th>\n",
       "      <td>s8804</td>\n",
       "      <td>TV Show</td>\n",
       "      <td>Zombie Dumb</td>\n",
       "      <td>NaN</td>\n",
       "      <td>NaN</td>\n",
       "      <td>NaN</td>\n",
       "      <td>July 1, 2019</td>\n",
       "      <td>2018</td>\n",
       "      <td>TV-Y7</td>\n",
       "      <td>2 Seasons</td>\n",
       "      <td>Kids' TV, Korean TV Shows, TV Comedies</td>\n",
       "      <td>While living alone in a spooky town, a young g...</td>\n",
       "    </tr>\n",
       "    <tr>\n",
       "      <th>8804</th>\n",
       "      <td>s8805</td>\n",
       "      <td>Movie</td>\n",
       "      <td>Zombieland</td>\n",
       "      <td>Ruben Fleischer</td>\n",
       "      <td>Jesse Eisenberg, Woody Harrelson, Emma Stone, ...</td>\n",
       "      <td>United States</td>\n",
       "      <td>November 1, 2019</td>\n",
       "      <td>2009</td>\n",
       "      <td>R</td>\n",
       "      <td>88 min</td>\n",
       "      <td>Comedies, Horror Movies</td>\n",
       "      <td>Looking to survive in a world taken over by zo...</td>\n",
       "    </tr>\n",
       "    <tr>\n",
       "      <th>8805</th>\n",
       "      <td>s8806</td>\n",
       "      <td>Movie</td>\n",
       "      <td>Zoom</td>\n",
       "      <td>Peter Hewitt</td>\n",
       "      <td>Tim Allen, Courteney Cox, Chevy Chase, Kate Ma...</td>\n",
       "      <td>United States</td>\n",
       "      <td>January 11, 2020</td>\n",
       "      <td>2006</td>\n",
       "      <td>PG</td>\n",
       "      <td>88 min</td>\n",
       "      <td>Children &amp; Family Movies, Comedies</td>\n",
       "      <td>Dragged from civilian life, a former superhero...</td>\n",
       "    </tr>\n",
       "    <tr>\n",
       "      <th>8806</th>\n",
       "      <td>s8807</td>\n",
       "      <td>Movie</td>\n",
       "      <td>Zubaan</td>\n",
       "      <td>Mozez Singh</td>\n",
       "      <td>Vicky Kaushal, Sarah-Jane Dias, Raaghav Chanan...</td>\n",
       "      <td>India</td>\n",
       "      <td>March 2, 2019</td>\n",
       "      <td>2015</td>\n",
       "      <td>TV-14</td>\n",
       "      <td>111 min</td>\n",
       "      <td>Dramas, International Movies, Music &amp; Musicals</td>\n",
       "      <td>A scrappy but poor boy worms his way into a ty...</td>\n",
       "    </tr>\n",
       "  </tbody>\n",
       "</table>\n",
       "</div>"
      ],
      "text/plain": [
       "     show_id     type        title         director   \n",
       "8802   s8803    Movie       Zodiac    David Fincher  \\\n",
       "8803   s8804  TV Show  Zombie Dumb              NaN   \n",
       "8804   s8805    Movie   Zombieland  Ruben Fleischer   \n",
       "8805   s8806    Movie         Zoom     Peter Hewitt   \n",
       "8806   s8807    Movie       Zubaan      Mozez Singh   \n",
       "\n",
       "                                                   cast        country   \n",
       "8802  Mark Ruffalo, Jake Gyllenhaal, Robert Downey J...  United States  \\\n",
       "8803                                                NaN            NaN   \n",
       "8804  Jesse Eisenberg, Woody Harrelson, Emma Stone, ...  United States   \n",
       "8805  Tim Allen, Courteney Cox, Chevy Chase, Kate Ma...  United States   \n",
       "8806  Vicky Kaushal, Sarah-Jane Dias, Raaghav Chanan...          India   \n",
       "\n",
       "             date_added  release_year rating   duration   \n",
       "8802  November 20, 2019          2007      R    158 min  \\\n",
       "8803       July 1, 2019          2018  TV-Y7  2 Seasons   \n",
       "8804   November 1, 2019          2009      R     88 min   \n",
       "8805   January 11, 2020          2006     PG     88 min   \n",
       "8806      March 2, 2019          2015  TV-14    111 min   \n",
       "\n",
       "                                           listed_in   \n",
       "8802                  Cult Movies, Dramas, Thrillers  \\\n",
       "8803          Kids' TV, Korean TV Shows, TV Comedies   \n",
       "8804                         Comedies, Horror Movies   \n",
       "8805              Children & Family Movies, Comedies   \n",
       "8806  Dramas, International Movies, Music & Musicals   \n",
       "\n",
       "                                            description  \n",
       "8802  A political cartoonist, a crime reporter and a...  \n",
       "8803  While living alone in a spooky town, a young g...  \n",
       "8804  Looking to survive in a world taken over by zo...  \n",
       "8805  Dragged from civilian life, a former superhero...  \n",
       "8806  A scrappy but poor boy worms his way into a ty...  "
      ]
     },
     "execution_count": 150,
     "metadata": {},
     "output_type": "execute_result"
    }
   ],
   "source": [
    "df.tail()"
   ]
  },
  {
   "cell_type": "code",
   "execution_count": 225,
   "id": "e3f3ea69",
   "metadata": {},
   "outputs": [
    {
     "name": "stdout",
     "output_type": "stream",
     "text": [
      "<class 'pandas.core.frame.DataFrame'>\n",
      "RangeIndex: 8807 entries, 0 to 8806\n",
      "Data columns (total 12 columns):\n",
      " #   Column        Non-Null Count  Dtype \n",
      "---  ------        --------------  ----- \n",
      " 0   show_id       8807 non-null   object\n",
      " 1   type          8807 non-null   object\n",
      " 2   title         8807 non-null   object\n",
      " 3   director      6173 non-null   object\n",
      " 4   cast          7982 non-null   object\n",
      " 5   country       7976 non-null   object\n",
      " 6   date_added    8797 non-null   object\n",
      " 7   release_year  8807 non-null   int64 \n",
      " 8   rating        8803 non-null   object\n",
      " 9   duration      8804 non-null   object\n",
      " 10  listed_in     8807 non-null   object\n",
      " 11  description   8807 non-null   object\n",
      "dtypes: int64(1), object(11)\n",
      "memory usage: 825.8+ KB\n"
     ]
    }
   ],
   "source": [
    "df.info()"
   ]
  },
  {
   "cell_type": "code",
   "execution_count": 226,
   "id": "b7c75991",
   "metadata": {},
   "outputs": [],
   "source": [
    "df_tratado = df.copy()"
   ]
  },
  {
   "cell_type": "code",
   "execution_count": 227,
   "id": "1ebba126",
   "metadata": {},
   "outputs": [],
   "source": [
    "df_tratado.columns = ['id', 'tipo', 'titulo', 'diretor', 'elenco', 'pais', 'data_disponibilizacao',\n",
    "       'ano_lancamento', 'classificacao', 'duracao', 'categorias', 'descricao']"
   ]
  },
  {
   "cell_type": "code",
   "execution_count": null,
   "id": "52cd46d0",
   "metadata": {},
   "outputs": [],
   "source": []
  },
  {
   "attachments": {},
   "cell_type": "markdown",
   "id": "812df5ce",
   "metadata": {},
   "source": [
    "# 1 - Quantos regristros e quantas colunas existem no dataset\n",
    "R.: 8807 linhas e 12 colunas."
   ]
  },
  {
   "cell_type": "code",
   "execution_count": 154,
   "id": "88d75487",
   "metadata": {},
   "outputs": [],
   "source": [
    "# desempacotamento de tuplas\n",
    "linhas, colunas = df_tratado.shape"
   ]
  },
  {
   "cell_type": "code",
   "execution_count": 155,
   "id": "99fb5fb3",
   "metadata": {},
   "outputs": [
    {
     "name": "stdout",
     "output_type": "stream",
     "text": [
      "Total de linhas: 8807\n",
      "Total de colunas: 12\n"
     ]
    }
   ],
   "source": [
    "print(f'Total de linhas: {linhas}')\n",
    "print(f'Total de colunas: {colunas}')"
   ]
  },
  {
   "attachments": {},
   "cell_type": "markdown",
   "id": "72edf92e",
   "metadata": {},
   "source": [
    "# 2 - Existem colunas com valores ausentes? Quais?\n",
    "R.: Sim! Colunas: diretor, elenco, pais, data_disponibilizacao, classificacao e duracao.\n",
    "            "
   ]
  },
  {
   "cell_type": "code",
   "execution_count": 156,
   "id": "d5f1dccd",
   "metadata": {},
   "outputs": [
    {
     "data": {
      "text/plain": [
       "id                          0\n",
       "tipo                        0\n",
       "titulo                      0\n",
       "diretor                  2634\n",
       "elenco                    825\n",
       "pais                      831\n",
       "data_disponibilizacao      10\n",
       "ano_lancamento              0\n",
       "classificacao               4\n",
       "duracao                     3\n",
       "categorias                  0\n",
       "descricao                   0\n",
       "dtype: int64"
      ]
     },
     "execution_count": 156,
     "metadata": {},
     "output_type": "execute_result"
    }
   ],
   "source": [
    "df_tratado.isna().sum()"
   ]
  },
  {
   "cell_type": "code",
   "execution_count": 157,
   "id": "cdb4c2ce",
   "metadata": {},
   "outputs": [
    {
     "data": {
      "text/plain": [
       "id                        0.000000\n",
       "tipo                      0.000000\n",
       "titulo                    0.000000\n",
       "diretor                  29.908028\n",
       "elenco                    9.367549\n",
       "pais                      9.435676\n",
       "data_disponibilizacao     0.113546\n",
       "ano_lancamento            0.000000\n",
       "classificacao             0.045418\n",
       "duracao                   0.034064\n",
       "categorias                0.000000\n",
       "descricao                 0.000000\n",
       "dtype: float64"
      ]
     },
     "execution_count": 157,
     "metadata": {},
     "output_type": "execute_result"
    }
   ],
   "source": [
    "# quanto % isso representa do valor total\n",
    "(df_tratado.isna().sum()) / linhas * 100"
   ]
  },
  {
   "attachments": {},
   "cell_type": "markdown",
   "id": "5fd62c97",
   "metadata": {},
   "source": [
    "# 3 - Quantas séries (TV Show) e quantos filmes (Movie) estão disponíveis?\n",
    "R.: No catálogo estão presente atualmente 6131 filmes e 2676 series."
   ]
  },
  {
   "cell_type": "code",
   "execution_count": 158,
   "id": "31004ae0",
   "metadata": {},
   "outputs": [
    {
     "data": {
      "text/plain": [
       "array(['Movie', 'TV Show'], dtype=object)"
      ]
     },
     "execution_count": 158,
     "metadata": {},
     "output_type": "execute_result"
    }
   ],
   "source": [
    "# retorna apenas quais são os valores únicos da coluna\n",
    "df_tratado['tipo'].unique()"
   ]
  },
  {
   "cell_type": "code",
   "execution_count": 159,
   "id": "61ba107e",
   "metadata": {},
   "outputs": [
    {
     "data": {
      "text/plain": [
       "tipo\n",
       "Movie      69.615079\n",
       "TV Show    30.384921\n",
       "Name: proportion, dtype: float64"
      ]
     },
     "execution_count": 159,
     "metadata": {},
     "output_type": "execute_result"
    }
   ],
   "source": [
    "# normalize=True é um parâmetro específico do value_counts, que tras os valores em %\n",
    "df_tratado['tipo'].value_counts(normalize=True) * 100"
   ]
  },
  {
   "cell_type": "code",
   "execution_count": 160,
   "id": "2cc01daf",
   "metadata": {},
   "outputs": [],
   "source": [
    "filmes, series = df_tratado['tipo'].value_counts()"
   ]
  },
  {
   "cell_type": "code",
   "execution_count": 161,
   "id": "6d08d468",
   "metadata": {},
   "outputs": [
    {
     "name": "stdout",
     "output_type": "stream",
     "text": [
      "No catálogo estão presente atualmente 6131 filmes e 2676 series.\n"
     ]
    }
   ],
   "source": [
    "print(f'No catálogo estão presente atualmente {filmes} filmes e {series} series.')"
   ]
  },
  {
   "cell_type": "code",
   "execution_count": 162,
   "id": "67f66863",
   "metadata": {},
   "outputs": [
    {
     "data": {
      "image/png": "[encoded data removed]",
      "text/plain": [
       "<Figure size 300x300 with 1 Axes>"
      ]
     },
     "metadata": {},
     "output_type": "display_data"
    }
   ],
   "source": [
    "# autopct='%1.1f%%' traz os valores em percentuais dentro do gráfico\n",
    "df_tratado['tipo'].value_counts().plot(kind='pie', title='Tipos de Título', figsize=(3, 3), autopct='%1.1f%%');"
   ]
  },
  {
   "attachments": {},
   "cell_type": "markdown",
   "id": "0f216490",
   "metadata": {},
   "source": [
    "# 4 - Quantos registros no dataset estão sem país especificado? Lista os seus tipos (filmes ou série de TV), e quantidades.\n",
    "R.: Há um total de 831 registros com países faltantes, destes, 440 são filmes e 391 são séries."
   ]
  },
  {
   "cell_type": "code",
   "execution_count": 163,
   "id": "17ca91bc",
   "metadata": {},
   "outputs": [
    {
     "data": {
      "text/html": [
       "<div>\n",
       "<style scoped>\n",
       "    .dataframe tbody tr th:only-of-type {\n",
       "        vertical-align: middle;\n",
       "    }\n",
       "\n",
       "    .dataframe tbody tr th {\n",
       "        vertical-align: top;\n",
       "    }\n",
       "\n",
       "    .dataframe thead th {\n",
       "        text-align: right;\n",
       "    }\n",
       "</style>\n",
       "<table border=\"1\" class=\"dataframe\">\n",
       "  <thead>\n",
       "    <tr style=\"text-align: right;\">\n",
       "      <th></th>\n",
       "      <th>id</th>\n",
       "      <th>tipo</th>\n",
       "      <th>titulo</th>\n",
       "      <th>diretor</th>\n",
       "      <th>elenco</th>\n",
       "      <th>pais</th>\n",
       "      <th>data_disponibilizacao</th>\n",
       "      <th>ano_lancamento</th>\n",
       "      <th>classificacao</th>\n",
       "      <th>duracao</th>\n",
       "      <th>categorias</th>\n",
       "      <th>descricao</th>\n",
       "    </tr>\n",
       "  </thead>\n",
       "  <tbody>\n",
       "    <tr>\n",
       "      <th>0</th>\n",
       "      <td>s1</td>\n",
       "      <td>Movie</td>\n",
       "      <td>Dick Johnson Is Dead</td>\n",
       "      <td>Kirsten Johnson</td>\n",
       "      <td>NaN</td>\n",
       "      <td>United States</td>\n",
       "      <td>September 25, 2021</td>\n",
       "      <td>2020</td>\n",
       "      <td>PG-13</td>\n",
       "      <td>90 min</td>\n",
       "      <td>Documentaries</td>\n",
       "      <td>As her father nears the end of his life, filmm...</td>\n",
       "    </tr>\n",
       "    <tr>\n",
       "      <th>1</th>\n",
       "      <td>s2</td>\n",
       "      <td>TV Show</td>\n",
       "      <td>Blood &amp; Water</td>\n",
       "      <td>NaN</td>\n",
       "      <td>Ama Qamata, Khosi Ngema, Gail Mabalane, Thaban...</td>\n",
       "      <td>South Africa</td>\n",
       "      <td>September 24, 2021</td>\n",
       "      <td>2021</td>\n",
       "      <td>TV-MA</td>\n",
       "      <td>2 Seasons</td>\n",
       "      <td>International TV Shows, TV Dramas, TV Mysteries</td>\n",
       "      <td>After crossing paths at a party, a Cape Town t...</td>\n",
       "    </tr>\n",
       "    <tr>\n",
       "      <th>2</th>\n",
       "      <td>s3</td>\n",
       "      <td>TV Show</td>\n",
       "      <td>Ganglands</td>\n",
       "      <td>Julien Leclercq</td>\n",
       "      <td>Sami Bouajila, Tracy Gotoas, Samuel Jouy, Nabi...</td>\n",
       "      <td>NaN</td>\n",
       "      <td>September 24, 2021</td>\n",
       "      <td>2021</td>\n",
       "      <td>TV-MA</td>\n",
       "      <td>1 Season</td>\n",
       "      <td>Crime TV Shows, International TV Shows, TV Act...</td>\n",
       "      <td>To protect his family from a powerful drug lor...</td>\n",
       "    </tr>\n",
       "    <tr>\n",
       "      <th>3</th>\n",
       "      <td>s4</td>\n",
       "      <td>TV Show</td>\n",
       "      <td>Jailbirds New Orleans</td>\n",
       "      <td>NaN</td>\n",
       "      <td>NaN</td>\n",
       "      <td>NaN</td>\n",
       "      <td>September 24, 2021</td>\n",
       "      <td>2021</td>\n",
       "      <td>TV-MA</td>\n",
       "      <td>1 Season</td>\n",
       "      <td>Docuseries, Reality TV</td>\n",
       "      <td>Feuds, flirtations and toilet talk go down amo...</td>\n",
       "    </tr>\n",
       "    <tr>\n",
       "      <th>4</th>\n",
       "      <td>s5</td>\n",
       "      <td>TV Show</td>\n",
       "      <td>Kota Factory</td>\n",
       "      <td>NaN</td>\n",
       "      <td>Mayur More, Jitendra Kumar, Ranjan Raj, Alam K...</td>\n",
       "      <td>India</td>\n",
       "      <td>September 24, 2021</td>\n",
       "      <td>2021</td>\n",
       "      <td>TV-MA</td>\n",
       "      <td>2 Seasons</td>\n",
       "      <td>International TV Shows, Romantic TV Shows, TV ...</td>\n",
       "      <td>In a city of coaching centers known to train I...</td>\n",
       "    </tr>\n",
       "  </tbody>\n",
       "</table>\n",
       "</div>"
      ],
      "text/plain": [
       "   id     tipo                 titulo          diretor   \n",
       "0  s1    Movie   Dick Johnson Is Dead  Kirsten Johnson  \\\n",
       "1  s2  TV Show          Blood & Water              NaN   \n",
       "2  s3  TV Show              Ganglands  Julien Leclercq   \n",
       "3  s4  TV Show  Jailbirds New Orleans              NaN   \n",
       "4  s5  TV Show           Kota Factory              NaN   \n",
       "\n",
       "                                              elenco           pais   \n",
       "0                                                NaN  United States  \\\n",
       "1  Ama Qamata, Khosi Ngema, Gail Mabalane, Thaban...   South Africa   \n",
       "2  Sami Bouajila, Tracy Gotoas, Samuel Jouy, Nabi...            NaN   \n",
       "3                                                NaN            NaN   \n",
       "4  Mayur More, Jitendra Kumar, Ranjan Raj, Alam K...          India   \n",
       "\n",
       "  data_disponibilizacao  ano_lancamento classificacao    duracao   \n",
       "0    September 25, 2021            2020         PG-13     90 min  \\\n",
       "1    September 24, 2021            2021         TV-MA  2 Seasons   \n",
       "2    September 24, 2021            2021         TV-MA   1 Season   \n",
       "3    September 24, 2021            2021         TV-MA   1 Season   \n",
       "4    September 24, 2021            2021         TV-MA  2 Seasons   \n",
       "\n",
       "                                          categorias   \n",
       "0                                      Documentaries  \\\n",
       "1    International TV Shows, TV Dramas, TV Mysteries   \n",
       "2  Crime TV Shows, International TV Shows, TV Act...   \n",
       "3                             Docuseries, Reality TV   \n",
       "4  International TV Shows, Romantic TV Shows, TV ...   \n",
       "\n",
       "                                           descricao  \n",
       "0  As her father nears the end of his life, filmm...  \n",
       "1  After crossing paths at a party, a Cape Town t...  \n",
       "2  To protect his family from a powerful drug lor...  \n",
       "3  Feuds, flirtations and toilet talk go down amo...  \n",
       "4  In a city of coaching centers known to train I...  "
      ]
     },
     "execution_count": 163,
     "metadata": {},
     "output_type": "execute_result"
    }
   ],
   "source": [
    "df_tratado.head()"
   ]
  },
  {
   "cell_type": "code",
   "execution_count": 164,
   "id": "73576c3d",
   "metadata": {},
   "outputs": [
    {
     "name": "stdout",
     "output_type": "stream",
     "text": [
      "Há um total de 831 países faltantes. \n"
     ]
    }
   ],
   "source": [
    "paises_faltantes = df_tratado['pais'].isna().sum()\n",
    "if paises_faltantes != 0:\n",
    "    print(f'Há um total de {paises_faltantes} países faltantes. ')"
   ]
  },
  {
   "cell_type": "code",
   "execution_count": 165,
   "id": "615531e1",
   "metadata": {},
   "outputs": [],
   "source": [
    "# retornando apenas um Dataframe com os dados faltantes na coluna paises\n",
    "df_sem_pais = df_tratado.loc[df_tratado['pais'].isna()]"
   ]
  },
  {
   "cell_type": "code",
   "execution_count": 166,
   "id": "b16f723e",
   "metadata": {},
   "outputs": [
    {
     "data": {
      "text/plain": [
       "tipo\n",
       "Movie      440\n",
       "TV Show    391\n",
       "Name: count, dtype: int64"
      ]
     },
     "execution_count": 166,
     "metadata": {},
     "output_type": "execute_result"
    }
   ],
   "source": [
    "df_sem_pais['tipo'].value_counts()"
   ]
  },
  {
   "cell_type": "code",
   "execution_count": 167,
   "id": "91e2a062",
   "metadata": {},
   "outputs": [
    {
     "data": {
      "image/png": "[encoded data removed]",
      "text/plain": [
       "<Figure size 640x480 with 1 Axes>"
      ]
     },
     "metadata": {},
     "output_type": "display_data"
    }
   ],
   "source": [
    "sns.barplot(x=df_sem_pais['tipo'].value_counts().index, y=df_sem_pais['tipo'].value_counts().values);"
   ]
  },
  {
   "attachments": {},
   "cell_type": "markdown",
   "id": "18d36a9d",
   "metadata": {},
   "source": [
    "# 5 -  Qual a data do primeiro filme disponibilizado e qual seu título e país?\n",
    "R.: O primeiro filme foi disponiblizado em 01/01/2008 e seu título é To and From New York, seu país de origem é USA."
   ]
  },
  {
   "cell_type": "code",
   "execution_count": 168,
   "id": "4ee3cbcb",
   "metadata": {},
   "outputs": [
    {
     "data": {
      "text/html": [
       "<div>\n",
       "<style scoped>\n",
       "    .dataframe tbody tr th:only-of-type {\n",
       "        vertical-align: middle;\n",
       "    }\n",
       "\n",
       "    .dataframe tbody tr th {\n",
       "        vertical-align: top;\n",
       "    }\n",
       "\n",
       "    .dataframe thead th {\n",
       "        text-align: right;\n",
       "    }\n",
       "</style>\n",
       "<table border=\"1\" class=\"dataframe\">\n",
       "  <thead>\n",
       "    <tr style=\"text-align: right;\">\n",
       "      <th></th>\n",
       "      <th>id</th>\n",
       "      <th>tipo</th>\n",
       "      <th>titulo</th>\n",
       "      <th>diretor</th>\n",
       "      <th>elenco</th>\n",
       "      <th>pais</th>\n",
       "      <th>data_disponibilizacao</th>\n",
       "      <th>ano_lancamento</th>\n",
       "      <th>classificacao</th>\n",
       "      <th>duracao</th>\n",
       "      <th>categorias</th>\n",
       "      <th>descricao</th>\n",
       "    </tr>\n",
       "  </thead>\n",
       "  <tbody>\n",
       "    <tr>\n",
       "      <th>0</th>\n",
       "      <td>s1</td>\n",
       "      <td>Movie</td>\n",
       "      <td>Dick Johnson Is Dead</td>\n",
       "      <td>Kirsten Johnson</td>\n",
       "      <td>NaN</td>\n",
       "      <td>United States</td>\n",
       "      <td>September 25, 2021</td>\n",
       "      <td>2020</td>\n",
       "      <td>PG-13</td>\n",
       "      <td>90 min</td>\n",
       "      <td>Documentaries</td>\n",
       "      <td>As her father nears the end of his life, filmm...</td>\n",
       "    </tr>\n",
       "  </tbody>\n",
       "</table>\n",
       "</div>"
      ],
      "text/plain": [
       "   id   tipo                titulo          diretor elenco           pais   \n",
       "0  s1  Movie  Dick Johnson Is Dead  Kirsten Johnson    NaN  United States  \\\n",
       "\n",
       "  data_disponibilizacao  ano_lancamento classificacao duracao     categorias   \n",
       "0    September 25, 2021            2020         PG-13  90 min  Documentaries  \\\n",
       "\n",
       "                                           descricao  \n",
       "0  As her father nears the end of his life, filmm...  "
      ]
     },
     "execution_count": 168,
     "metadata": {},
     "output_type": "execute_result"
    }
   ],
   "source": [
    "df_tratado.head(1)"
   ]
  },
  {
   "cell_type": "code",
   "execution_count": 169,
   "id": "94c23bd7",
   "metadata": {},
   "outputs": [
    {
     "data": {
      "text/plain": [
       "8423     April 15, 2018\n",
       "7521     April 16, 2019\n",
       "7342     April 17, 2016\n",
       "8257     April 20, 2017\n",
       "6460      April 4, 2017\n",
       "             ...       \n",
       "7196                NaN\n",
       "7254                NaN\n",
       "7406                NaN\n",
       "7847                NaN\n",
       "8182                NaN\n",
       "Name: data_disponibilizacao, Length: 8807, dtype: object"
      ]
     },
     "execution_count": 169,
     "metadata": {},
     "output_type": "execute_result"
    }
   ],
   "source": [
    "df_tratado['data_disponibilizacao'].sort_values()"
   ]
  },
  {
   "cell_type": "code",
   "execution_count": 170,
   "id": "eb333bec",
   "metadata": {},
   "outputs": [],
   "source": [
    "df_movies = df_tratado.loc[df_tratado['tipo'] == \"Movie\"]"
   ]
  },
  {
   "cell_type": "code",
   "execution_count": 171,
   "id": "f51400c1",
   "metadata": {},
   "outputs": [
    {
     "data": {
      "text/plain": [
       "'April 1, 2016'"
      ]
     },
     "execution_count": 171,
     "metadata": {},
     "output_type": "execute_result"
    }
   ],
   "source": [
    "df_movies['data_disponibilizacao'].min()"
   ]
  },
  {
   "cell_type": "code",
   "execution_count": 172,
   "id": "7e9ab4aa",
   "metadata": {},
   "outputs": [
    {
     "data": {
      "text/html": [
       "<div>\n",
       "<style scoped>\n",
       "    .dataframe tbody tr th:only-of-type {\n",
       "        vertical-align: middle;\n",
       "    }\n",
       "\n",
       "    .dataframe tbody tr th {\n",
       "        vertical-align: top;\n",
       "    }\n",
       "\n",
       "    .dataframe thead th {\n",
       "        text-align: right;\n",
       "    }\n",
       "</style>\n",
       "<table border=\"1\" class=\"dataframe\">\n",
       "  <thead>\n",
       "    <tr style=\"text-align: right;\">\n",
       "      <th></th>\n",
       "      <th>id</th>\n",
       "      <th>tipo</th>\n",
       "      <th>titulo</th>\n",
       "      <th>diretor</th>\n",
       "      <th>elenco</th>\n",
       "      <th>pais</th>\n",
       "      <th>data_disponibilizacao</th>\n",
       "      <th>ano_lancamento</th>\n",
       "      <th>classificacao</th>\n",
       "      <th>duracao</th>\n",
       "      <th>categorias</th>\n",
       "      <th>descricao</th>\n",
       "    </tr>\n",
       "  </thead>\n",
       "  <tbody>\n",
       "    <tr>\n",
       "      <th>5854</th>\n",
       "      <td>s5855</td>\n",
       "      <td>Movie</td>\n",
       "      <td>Frank and Cindy</td>\n",
       "      <td>G.J. Echternkamp</td>\n",
       "      <td>NaN</td>\n",
       "      <td>United States</td>\n",
       "      <td>April 1, 2016</td>\n",
       "      <td>2007</td>\n",
       "      <td>TV-MA</td>\n",
       "      <td>70 min</td>\n",
       "      <td>Documentaries, Music &amp; Musicals</td>\n",
       "      <td>Frank was a rising pop star when he married Ci...</td>\n",
       "    </tr>\n",
       "    <tr>\n",
       "      <th>7107</th>\n",
       "      <td>s7108</td>\n",
       "      <td>Movie</td>\n",
       "      <td>Iverson</td>\n",
       "      <td>Zatella Beatty</td>\n",
       "      <td>Allen Iverson</td>\n",
       "      <td>United States</td>\n",
       "      <td>April 1, 2016</td>\n",
       "      <td>2014</td>\n",
       "      <td>NR</td>\n",
       "      <td>88 min</td>\n",
       "      <td>Documentaries, Sports Movies</td>\n",
       "      <td>This unfiltered documentary follows the rocky ...</td>\n",
       "    </tr>\n",
       "    <tr>\n",
       "      <th>7124</th>\n",
       "      <td>s7125</td>\n",
       "      <td>Movie</td>\n",
       "      <td>Jeremy Scott: The People's Designer</td>\n",
       "      <td>Vlad Yudin</td>\n",
       "      <td>Jeremy Scott</td>\n",
       "      <td>United States</td>\n",
       "      <td>April 1, 2016</td>\n",
       "      <td>2015</td>\n",
       "      <td>PG-13</td>\n",
       "      <td>109 min</td>\n",
       "      <td>Documentaries</td>\n",
       "      <td>The journey of fashion designer Jeremy Scott f...</td>\n",
       "    </tr>\n",
       "  </tbody>\n",
       "</table>\n",
       "</div>"
      ],
      "text/plain": [
       "         id   tipo                               titulo           diretor   \n",
       "5854  s5855  Movie                      Frank and Cindy  G.J. Echternkamp  \\\n",
       "7107  s7108  Movie                              Iverson    Zatella Beatty   \n",
       "7124  s7125  Movie  Jeremy Scott: The People's Designer        Vlad Yudin   \n",
       "\n",
       "             elenco           pais data_disponibilizacao  ano_lancamento   \n",
       "5854            NaN  United States         April 1, 2016            2007  \\\n",
       "7107  Allen Iverson  United States         April 1, 2016            2014   \n",
       "7124   Jeremy Scott  United States         April 1, 2016            2015   \n",
       "\n",
       "     classificacao  duracao                       categorias   \n",
       "5854         TV-MA   70 min  Documentaries, Music & Musicals  \\\n",
       "7107            NR   88 min     Documentaries, Sports Movies   \n",
       "7124         PG-13  109 min                    Documentaries   \n",
       "\n",
       "                                              descricao  \n",
       "5854  Frank was a rising pop star when he married Ci...  \n",
       "7107  This unfiltered documentary follows the rocky ...  \n",
       "7124  The journey of fashion designer Jeremy Scott f...  "
      ]
     },
     "execution_count": 172,
     "metadata": {},
     "output_type": "execute_result"
    }
   ],
   "source": [
    "# assim\n",
    "df_movies.loc[df_movies['data_disponibilizacao'] == df_movies['data_disponibilizacao'].min()]"
   ]
  },
  {
   "cell_type": "code",
   "execution_count": 173,
   "id": "783a7617",
   "metadata": {},
   "outputs": [
    {
     "data": {
      "text/html": [
       "<div>\n",
       "<style scoped>\n",
       "    .dataframe tbody tr th:only-of-type {\n",
       "        vertical-align: middle;\n",
       "    }\n",
       "\n",
       "    .dataframe tbody tr th {\n",
       "        vertical-align: top;\n",
       "    }\n",
       "\n",
       "    .dataframe thead th {\n",
       "        text-align: right;\n",
       "    }\n",
       "</style>\n",
       "<table border=\"1\" class=\"dataframe\">\n",
       "  <thead>\n",
       "    <tr style=\"text-align: right;\">\n",
       "      <th></th>\n",
       "      <th>id</th>\n",
       "      <th>tipo</th>\n",
       "      <th>titulo</th>\n",
       "      <th>diretor</th>\n",
       "      <th>elenco</th>\n",
       "      <th>pais</th>\n",
       "      <th>data_disponibilizacao</th>\n",
       "      <th>ano_lancamento</th>\n",
       "      <th>classificacao</th>\n",
       "      <th>duracao</th>\n",
       "      <th>categorias</th>\n",
       "      <th>descricao</th>\n",
       "    </tr>\n",
       "  </thead>\n",
       "  <tbody>\n",
       "    <tr>\n",
       "      <th>5854</th>\n",
       "      <td>s5855</td>\n",
       "      <td>Movie</td>\n",
       "      <td>Frank and Cindy</td>\n",
       "      <td>G.J. Echternkamp</td>\n",
       "      <td>NaN</td>\n",
       "      <td>United States</td>\n",
       "      <td>April 1, 2016</td>\n",
       "      <td>2007</td>\n",
       "      <td>TV-MA</td>\n",
       "      <td>70 min</td>\n",
       "      <td>Documentaries, Music &amp; Musicals</td>\n",
       "      <td>Frank was a rising pop star when he married Ci...</td>\n",
       "    </tr>\n",
       "    <tr>\n",
       "      <th>7107</th>\n",
       "      <td>s7108</td>\n",
       "      <td>Movie</td>\n",
       "      <td>Iverson</td>\n",
       "      <td>Zatella Beatty</td>\n",
       "      <td>Allen Iverson</td>\n",
       "      <td>United States</td>\n",
       "      <td>April 1, 2016</td>\n",
       "      <td>2014</td>\n",
       "      <td>NR</td>\n",
       "      <td>88 min</td>\n",
       "      <td>Documentaries, Sports Movies</td>\n",
       "      <td>This unfiltered documentary follows the rocky ...</td>\n",
       "    </tr>\n",
       "    <tr>\n",
       "      <th>7124</th>\n",
       "      <td>s7125</td>\n",
       "      <td>Movie</td>\n",
       "      <td>Jeremy Scott: The People's Designer</td>\n",
       "      <td>Vlad Yudin</td>\n",
       "      <td>Jeremy Scott</td>\n",
       "      <td>United States</td>\n",
       "      <td>April 1, 2016</td>\n",
       "      <td>2015</td>\n",
       "      <td>PG-13</td>\n",
       "      <td>109 min</td>\n",
       "      <td>Documentaries</td>\n",
       "      <td>The journey of fashion designer Jeremy Scott f...</td>\n",
       "    </tr>\n",
       "  </tbody>\n",
       "</table>\n",
       "</div>"
      ],
      "text/plain": [
       "         id   tipo                               titulo           diretor   \n",
       "5854  s5855  Movie                      Frank and Cindy  G.J. Echternkamp  \\\n",
       "7107  s7108  Movie                              Iverson    Zatella Beatty   \n",
       "7124  s7125  Movie  Jeremy Scott: The People's Designer        Vlad Yudin   \n",
       "\n",
       "             elenco           pais data_disponibilizacao  ano_lancamento   \n",
       "5854            NaN  United States         April 1, 2016            2007  \\\n",
       "7107  Allen Iverson  United States         April 1, 2016            2014   \n",
       "7124   Jeremy Scott  United States         April 1, 2016            2015   \n",
       "\n",
       "     classificacao  duracao                       categorias   \n",
       "5854         TV-MA   70 min  Documentaries, Music & Musicals  \\\n",
       "7107            NR   88 min     Documentaries, Sports Movies   \n",
       "7124         PG-13  109 min                    Documentaries   \n",
       "\n",
       "                                              descricao  \n",
       "5854  Frank was a rising pop star when he married Ci...  \n",
       "7107  This unfiltered documentary follows the rocky ...  \n",
       "7124  The journey of fashion designer Jeremy Scott f...  "
      ]
     },
     "execution_count": 173,
     "metadata": {},
     "output_type": "execute_result"
    }
   ],
   "source": [
    "# ou assim\n",
    "filtro = df_movies['data_disponibilizacao'] == df_movies['data_disponibilizacao'].min()\n",
    "df_movies[filtro]"
   ]
  },
  {
   "attachments": {},
   "cell_type": "markdown",
   "id": "afa00122",
   "metadata": {},
   "source": [
    "# 6 - Qual o diretor com o maior número de títulos (filmes e séries)? Qual o seu país?\n",
    "R.: Rajiv Chilaka - Índia"
   ]
  },
  {
   "cell_type": "code",
   "execution_count": 174,
   "id": "4058ab27",
   "metadata": {},
   "outputs": [
    {
     "data": {
      "text/plain": [
       "diretor\n",
       "Rajiv Chilaka                     19\n",
       "Raúl Campos, Jan Suter            18\n",
       "Marcus Raboy                      16\n",
       "Suhas Kadav                       16\n",
       "Jay Karas                         14\n",
       "                                  ..\n",
       "Raymie Muzquiz, Stu Livingston     1\n",
       "Joe Menendez                       1\n",
       "Eric Bross                         1\n",
       "Will Eisenberg                     1\n",
       "Mozez Singh                        1\n",
       "Name: count, Length: 4528, dtype: int64"
      ]
     },
     "execution_count": 174,
     "metadata": {},
     "output_type": "execute_result"
    }
   ],
   "source": [
    "df_tratado['diretor'].value_counts()"
   ]
  },
  {
   "cell_type": "code",
   "execution_count": 175,
   "id": "d3bf6568",
   "metadata": {},
   "outputs": [],
   "source": [
    "filtro_diretor = df_tratado.loc[df_tratado['diretor'] == 'Rajiv Chilaka']"
   ]
  },
  {
   "cell_type": "code",
   "execution_count": 176,
   "id": "175d1190",
   "metadata": {},
   "outputs": [
    {
     "data": {
      "text/html": [
       "<div>\n",
       "<style scoped>\n",
       "    .dataframe tbody tr th:only-of-type {\n",
       "        vertical-align: middle;\n",
       "    }\n",
       "\n",
       "    .dataframe tbody tr th {\n",
       "        vertical-align: top;\n",
       "    }\n",
       "\n",
       "    .dataframe thead th {\n",
       "        text-align: right;\n",
       "    }\n",
       "</style>\n",
       "<table border=\"1\" class=\"dataframe\">\n",
       "  <thead>\n",
       "    <tr style=\"text-align: right;\">\n",
       "      <th></th>\n",
       "      <th>id</th>\n",
       "      <th>tipo</th>\n",
       "      <th>titulo</th>\n",
       "      <th>diretor</th>\n",
       "      <th>elenco</th>\n",
       "      <th>pais</th>\n",
       "      <th>data_disponibilizacao</th>\n",
       "      <th>ano_lancamento</th>\n",
       "      <th>classificacao</th>\n",
       "      <th>duracao</th>\n",
       "      <th>categorias</th>\n",
       "      <th>descricao</th>\n",
       "    </tr>\n",
       "  </thead>\n",
       "  <tbody>\n",
       "    <tr>\n",
       "      <th>406</th>\n",
       "      <td>s407</td>\n",
       "      <td>Movie</td>\n",
       "      <td>Chhota Bheem - Neeli Pahaadi</td>\n",
       "      <td>Rajiv Chilaka</td>\n",
       "      <td>Vatsal Dubey, Julie Tejwani, Rupa Bhimani, Jig...</td>\n",
       "      <td>India</td>\n",
       "      <td>July 22, 2021</td>\n",
       "      <td>2013</td>\n",
       "      <td>TV-Y7</td>\n",
       "      <td>64 min</td>\n",
       "      <td>Children &amp; Family Movies</td>\n",
       "      <td>Things get spooky when Bheem and his buddies t...</td>\n",
       "    </tr>\n",
       "  </tbody>\n",
       "</table>\n",
       "</div>"
      ],
      "text/plain": [
       "       id   tipo                        titulo        diretor   \n",
       "406  s407  Movie  Chhota Bheem - Neeli Pahaadi  Rajiv Chilaka  \\\n",
       "\n",
       "                                                elenco   pais   \n",
       "406  Vatsal Dubey, Julie Tejwani, Rupa Bhimani, Jig...  India  \\\n",
       "\n",
       "    data_disponibilizacao  ano_lancamento classificacao duracao   \n",
       "406         July 22, 2021            2013         TV-Y7  64 min  \\\n",
       "\n",
       "                   categorias   \n",
       "406  Children & Family Movies  \\\n",
       "\n",
       "                                             descricao  \n",
       "406  Things get spooky when Bheem and his buddies t...  "
      ]
     },
     "execution_count": 176,
     "metadata": {},
     "output_type": "execute_result"
    }
   ],
   "source": [
    "filtro_diretor.fillna('India').head(1)"
   ]
  },
  {
   "cell_type": "code",
   "execution_count": 177,
   "id": "4e668e72",
   "metadata": {},
   "outputs": [
    {
     "data": {
      "text/html": [
       "<div>\n",
       "<style scoped>\n",
       "    .dataframe tbody tr th:only-of-type {\n",
       "        vertical-align: middle;\n",
       "    }\n",
       "\n",
       "    .dataframe tbody tr th {\n",
       "        vertical-align: top;\n",
       "    }\n",
       "\n",
       "    .dataframe thead th {\n",
       "        text-align: right;\n",
       "    }\n",
       "</style>\n",
       "<table border=\"1\" class=\"dataframe\">\n",
       "  <thead>\n",
       "    <tr style=\"text-align: right;\">\n",
       "      <th></th>\n",
       "      <th>id</th>\n",
       "      <th>tipo</th>\n",
       "      <th>titulo</th>\n",
       "      <th>diretor</th>\n",
       "      <th>elenco</th>\n",
       "      <th>pais</th>\n",
       "      <th>data_disponibilizacao</th>\n",
       "      <th>ano_lancamento</th>\n",
       "      <th>classificacao</th>\n",
       "      <th>duracao</th>\n",
       "      <th>categorias</th>\n",
       "      <th>descricao</th>\n",
       "    </tr>\n",
       "  </thead>\n",
       "  <tbody>\n",
       "    <tr>\n",
       "      <th>406</th>\n",
       "      <td>s407</td>\n",
       "      <td>Movie</td>\n",
       "      <td>Chhota Bheem - Neeli Pahaadi</td>\n",
       "      <td>Rajiv Chilaka</td>\n",
       "      <td>Vatsal Dubey, Julie Tejwani, Rupa Bhimani, Jig...</td>\n",
       "      <td>NaN</td>\n",
       "      <td>July 22, 2021</td>\n",
       "      <td>2013</td>\n",
       "      <td>TV-Y7</td>\n",
       "      <td>64 min</td>\n",
       "      <td>Children &amp; Family Movies</td>\n",
       "      <td>Things get spooky when Bheem and his buddies t...</td>\n",
       "    </tr>\n",
       "  </tbody>\n",
       "</table>\n",
       "</div>"
      ],
      "text/plain": [
       "       id   tipo                        titulo        diretor   \n",
       "406  s407  Movie  Chhota Bheem - Neeli Pahaadi  Rajiv Chilaka  \\\n",
       "\n",
       "                                                elenco pais   \n",
       "406  Vatsal Dubey, Julie Tejwani, Rupa Bhimani, Jig...  NaN  \\\n",
       "\n",
       "    data_disponibilizacao  ano_lancamento classificacao duracao   \n",
       "406         July 22, 2021            2013         TV-Y7  64 min  \\\n",
       "\n",
       "                   categorias   \n",
       "406  Children & Family Movies  \\\n",
       "\n",
       "                                             descricao  \n",
       "406  Things get spooky when Bheem and his buddies t...  "
      ]
     },
     "execution_count": 177,
     "metadata": {},
     "output_type": "execute_result"
    }
   ],
   "source": [
    "df_tratado.query(\"diretor == 'Rajiv Chilaka'\").head(1)"
   ]
  },
  {
   "attachments": {},
   "cell_type": "markdown",
   "id": "13006d29",
   "metadata": {},
   "source": [
    "# 7 - Qual o filme de maior duração e menor duração?\n",
    "R.: O filme com maior duração é: The School of Mischief. E o de menor é: Silent"
   ]
  },
  {
   "cell_type": "code",
   "execution_count": 178,
   "id": "f75f79df",
   "metadata": {},
   "outputs": [],
   "source": [
    "df_movie = df_tratado.loc[df_tratado['tipo'] == 'Movie'].copy()"
   ]
  },
  {
   "cell_type": "code",
   "execution_count": 179,
   "id": "49b6685d",
   "metadata": {},
   "outputs": [
    {
     "data": {
      "text/html": [
       "<div>\n",
       "<style scoped>\n",
       "    .dataframe tbody tr th:only-of-type {\n",
       "        vertical-align: middle;\n",
       "    }\n",
       "\n",
       "    .dataframe tbody tr th {\n",
       "        vertical-align: top;\n",
       "    }\n",
       "\n",
       "    .dataframe thead th {\n",
       "        text-align: right;\n",
       "    }\n",
       "</style>\n",
       "<table border=\"1\" class=\"dataframe\">\n",
       "  <thead>\n",
       "    <tr style=\"text-align: right;\">\n",
       "      <th></th>\n",
       "      <th>id</th>\n",
       "      <th>tipo</th>\n",
       "      <th>titulo</th>\n",
       "      <th>diretor</th>\n",
       "      <th>elenco</th>\n",
       "      <th>pais</th>\n",
       "      <th>data_disponibilizacao</th>\n",
       "      <th>ano_lancamento</th>\n",
       "      <th>classificacao</th>\n",
       "      <th>duracao</th>\n",
       "      <th>categorias</th>\n",
       "      <th>descricao</th>\n",
       "    </tr>\n",
       "  </thead>\n",
       "  <tbody>\n",
       "    <tr>\n",
       "      <th>0</th>\n",
       "      <td>s1</td>\n",
       "      <td>Movie</td>\n",
       "      <td>Dick Johnson Is Dead</td>\n",
       "      <td>Kirsten Johnson</td>\n",
       "      <td>NaN</td>\n",
       "      <td>United States</td>\n",
       "      <td>September 25, 2021</td>\n",
       "      <td>2020</td>\n",
       "      <td>PG-13</td>\n",
       "      <td>90 min</td>\n",
       "      <td>Documentaries</td>\n",
       "      <td>As her father nears the end of his life, filmm...</td>\n",
       "    </tr>\n",
       "    <tr>\n",
       "      <th>6</th>\n",
       "      <td>s7</td>\n",
       "      <td>Movie</td>\n",
       "      <td>My Little Pony: A New Generation</td>\n",
       "      <td>Robert Cullen, José Luis Ucha</td>\n",
       "      <td>Vanessa Hudgens, Kimiko Glenn, James Marsden, ...</td>\n",
       "      <td>NaN</td>\n",
       "      <td>September 24, 2021</td>\n",
       "      <td>2021</td>\n",
       "      <td>PG</td>\n",
       "      <td>91 min</td>\n",
       "      <td>Children &amp; Family Movies</td>\n",
       "      <td>Equestria's divided. But a bright-eyed hero be...</td>\n",
       "    </tr>\n",
       "    <tr>\n",
       "      <th>7</th>\n",
       "      <td>s8</td>\n",
       "      <td>Movie</td>\n",
       "      <td>Sankofa</td>\n",
       "      <td>Haile Gerima</td>\n",
       "      <td>Kofi Ghanaba, Oyafunmike Ogunlano, Alexandra D...</td>\n",
       "      <td>United States, Ghana, Burkina Faso, United Kin...</td>\n",
       "      <td>September 24, 2021</td>\n",
       "      <td>1993</td>\n",
       "      <td>TV-MA</td>\n",
       "      <td>125 min</td>\n",
       "      <td>Dramas, Independent Movies, International Movies</td>\n",
       "      <td>On a photo shoot in Ghana, an American model s...</td>\n",
       "    </tr>\n",
       "    <tr>\n",
       "      <th>9</th>\n",
       "      <td>s10</td>\n",
       "      <td>Movie</td>\n",
       "      <td>The Starling</td>\n",
       "      <td>Theodore Melfi</td>\n",
       "      <td>Melissa McCarthy, Chris O'Dowd, Kevin Kline, T...</td>\n",
       "      <td>United States</td>\n",
       "      <td>September 24, 2021</td>\n",
       "      <td>2021</td>\n",
       "      <td>PG-13</td>\n",
       "      <td>104 min</td>\n",
       "      <td>Comedies, Dramas</td>\n",
       "      <td>A woman adjusting to life after a loss contend...</td>\n",
       "    </tr>\n",
       "    <tr>\n",
       "      <th>12</th>\n",
       "      <td>s13</td>\n",
       "      <td>Movie</td>\n",
       "      <td>Je Suis Karl</td>\n",
       "      <td>Christian Schwochow</td>\n",
       "      <td>Luna Wedler, Jannis Niewöhner, Milan Peschel, ...</td>\n",
       "      <td>Germany, Czech Republic</td>\n",
       "      <td>September 23, 2021</td>\n",
       "      <td>2021</td>\n",
       "      <td>TV-MA</td>\n",
       "      <td>127 min</td>\n",
       "      <td>Dramas, International Movies</td>\n",
       "      <td>After most of her family is murdered in a terr...</td>\n",
       "    </tr>\n",
       "  </tbody>\n",
       "</table>\n",
       "</div>"
      ],
      "text/plain": [
       "     id   tipo                            titulo   \n",
       "0    s1  Movie              Dick Johnson Is Dead  \\\n",
       "6    s7  Movie  My Little Pony: A New Generation   \n",
       "7    s8  Movie                           Sankofa   \n",
       "9   s10  Movie                      The Starling   \n",
       "12  s13  Movie                      Je Suis Karl   \n",
       "\n",
       "                          diretor   \n",
       "0                 Kirsten Johnson  \\\n",
       "6   Robert Cullen, José Luis Ucha   \n",
       "7                    Haile Gerima   \n",
       "9                  Theodore Melfi   \n",
       "12            Christian Schwochow   \n",
       "\n",
       "                                               elenco   \n",
       "0                                                 NaN  \\\n",
       "6   Vanessa Hudgens, Kimiko Glenn, James Marsden, ...   \n",
       "7   Kofi Ghanaba, Oyafunmike Ogunlano, Alexandra D...   \n",
       "9   Melissa McCarthy, Chris O'Dowd, Kevin Kline, T...   \n",
       "12  Luna Wedler, Jannis Niewöhner, Milan Peschel, ...   \n",
       "\n",
       "                                                 pais data_disponibilizacao   \n",
       "0                                       United States    September 25, 2021  \\\n",
       "6                                                 NaN    September 24, 2021   \n",
       "7   United States, Ghana, Burkina Faso, United Kin...    September 24, 2021   \n",
       "9                                       United States    September 24, 2021   \n",
       "12                            Germany, Czech Republic    September 23, 2021   \n",
       "\n",
       "    ano_lancamento classificacao  duracao   \n",
       "0             2020         PG-13   90 min  \\\n",
       "6             2021            PG   91 min   \n",
       "7             1993         TV-MA  125 min   \n",
       "9             2021         PG-13  104 min   \n",
       "12            2021         TV-MA  127 min   \n",
       "\n",
       "                                          categorias   \n",
       "0                                      Documentaries  \\\n",
       "6                           Children & Family Movies   \n",
       "7   Dramas, Independent Movies, International Movies   \n",
       "9                                   Comedies, Dramas   \n",
       "12                      Dramas, International Movies   \n",
       "\n",
       "                                            descricao  \n",
       "0   As her father nears the end of his life, filmm...  \n",
       "6   Equestria's divided. But a bright-eyed hero be...  \n",
       "7   On a photo shoot in Ghana, an American model s...  \n",
       "9   A woman adjusting to life after a loss contend...  \n",
       "12  After most of her family is murdered in a terr...  "
      ]
     },
     "execution_count": 179,
     "metadata": {},
     "output_type": "execute_result"
    }
   ],
   "source": [
    "df_movie.head()"
   ]
  },
  {
   "cell_type": "code",
   "execution_count": 180,
   "id": "9a6e0bc8",
   "metadata": {},
   "outputs": [
    {
     "data": {
      "text/html": [
       "<div>\n",
       "<style scoped>\n",
       "    .dataframe tbody tr th:only-of-type {\n",
       "        vertical-align: middle;\n",
       "    }\n",
       "\n",
       "    .dataframe tbody tr th {\n",
       "        vertical-align: top;\n",
       "    }\n",
       "\n",
       "    .dataframe thead th {\n",
       "        text-align: right;\n",
       "    }\n",
       "</style>\n",
       "<table border=\"1\" class=\"dataframe\">\n",
       "  <thead>\n",
       "    <tr style=\"text-align: right;\">\n",
       "      <th></th>\n",
       "      <th>id</th>\n",
       "      <th>tipo</th>\n",
       "      <th>titulo</th>\n",
       "      <th>diretor</th>\n",
       "      <th>elenco</th>\n",
       "      <th>pais</th>\n",
       "      <th>data_disponibilizacao</th>\n",
       "      <th>ano_lancamento</th>\n",
       "      <th>classificacao</th>\n",
       "      <th>duracao</th>\n",
       "      <th>categorias</th>\n",
       "      <th>descricao</th>\n",
       "    </tr>\n",
       "  </thead>\n",
       "  <tbody>\n",
       "    <tr>\n",
       "      <th>5541</th>\n",
       "      <td>s5542</td>\n",
       "      <td>Movie</td>\n",
       "      <td>Louis C.K. 2017</td>\n",
       "      <td>Louis C.K.</td>\n",
       "      <td>Louis C.K.</td>\n",
       "      <td>United States</td>\n",
       "      <td>April 4, 2017</td>\n",
       "      <td>2017</td>\n",
       "      <td>74 min</td>\n",
       "      <td>NaN</td>\n",
       "      <td>Movies</td>\n",
       "      <td>Louis C.K. muses on religion, eternal love, gi...</td>\n",
       "    </tr>\n",
       "    <tr>\n",
       "      <th>5794</th>\n",
       "      <td>s5795</td>\n",
       "      <td>Movie</td>\n",
       "      <td>Louis C.K.: Hilarious</td>\n",
       "      <td>Louis C.K.</td>\n",
       "      <td>Louis C.K.</td>\n",
       "      <td>United States</td>\n",
       "      <td>September 16, 2016</td>\n",
       "      <td>2010</td>\n",
       "      <td>84 min</td>\n",
       "      <td>NaN</td>\n",
       "      <td>Movies</td>\n",
       "      <td>Emmy-winning comedy writer Louis C.K. brings h...</td>\n",
       "    </tr>\n",
       "    <tr>\n",
       "      <th>5813</th>\n",
       "      <td>s5814</td>\n",
       "      <td>Movie</td>\n",
       "      <td>Louis C.K.: Live at the Comedy Store</td>\n",
       "      <td>Louis C.K.</td>\n",
       "      <td>Louis C.K.</td>\n",
       "      <td>United States</td>\n",
       "      <td>August 15, 2016</td>\n",
       "      <td>2015</td>\n",
       "      <td>66 min</td>\n",
       "      <td>NaN</td>\n",
       "      <td>Movies</td>\n",
       "      <td>The comic puts his trademark hilarious/thought...</td>\n",
       "    </tr>\n",
       "  </tbody>\n",
       "</table>\n",
       "</div>"
      ],
      "text/plain": [
       "         id   tipo                                titulo     diretor   \n",
       "5541  s5542  Movie                       Louis C.K. 2017  Louis C.K.  \\\n",
       "5794  s5795  Movie                 Louis C.K.: Hilarious  Louis C.K.   \n",
       "5813  s5814  Movie  Louis C.K.: Live at the Comedy Store  Louis C.K.   \n",
       "\n",
       "          elenco           pais data_disponibilizacao  ano_lancamento   \n",
       "5541  Louis C.K.  United States         April 4, 2017            2017  \\\n",
       "5794  Louis C.K.  United States    September 16, 2016            2010   \n",
       "5813  Louis C.K.  United States       August 15, 2016            2015   \n",
       "\n",
       "     classificacao duracao categorias   \n",
       "5541        74 min     NaN     Movies  \\\n",
       "5794        84 min     NaN     Movies   \n",
       "5813        66 min     NaN     Movies   \n",
       "\n",
       "                                              descricao  \n",
       "5541  Louis C.K. muses on religion, eternal love, gi...  \n",
       "5794  Emmy-winning comedy writer Louis C.K. brings h...  \n",
       "5813  The comic puts his trademark hilarious/thought...  "
      ]
     },
     "execution_count": 180,
     "metadata": {},
     "output_type": "execute_result"
    }
   ],
   "source": [
    "# Conferindo se há algum dado faltante na coluna 'duracao'\n",
    "# Pude observar que estes valores estavam na coluna errada, 'classificacao'\n",
    "df_movie.loc[df_movie['duracao'].isna()]"
   ]
  },
  {
   "cell_type": "code",
   "execution_count": 181,
   "id": "b6d16c76",
   "metadata": {},
   "outputs": [],
   "source": [
    "# corrigindo os dados da coluna 'duracao' que estavam na coluna 'classificacao'\n",
    "df_movie.loc[[5541, 5794, 5813], 'duracao'] = '74 min', '84 min', '66 min'"
   ]
  },
  {
   "cell_type": "code",
   "execution_count": 182,
   "id": "4ed1081b",
   "metadata": {},
   "outputs": [],
   "source": [
    "# agora devo apagar os dados que estao errados na coluna 'classificacao', utilizei o nan do numpy para isso, ficarão como nulas\n",
    "df_movie.loc[[5541, 5794, 5813], 'classificacao'] = np.nan"
   ]
  },
  {
   "cell_type": "code",
   "execution_count": 183,
   "id": "934e2598",
   "metadata": {},
   "outputs": [
    {
     "data": {
      "text/html": [
       "<div>\n",
       "<style scoped>\n",
       "    .dataframe tbody tr th:only-of-type {\n",
       "        vertical-align: middle;\n",
       "    }\n",
       "\n",
       "    .dataframe tbody tr th {\n",
       "        vertical-align: top;\n",
       "    }\n",
       "\n",
       "    .dataframe thead th {\n",
       "        text-align: right;\n",
       "    }\n",
       "</style>\n",
       "<table border=\"1\" class=\"dataframe\">\n",
       "  <thead>\n",
       "    <tr style=\"text-align: right;\">\n",
       "      <th></th>\n",
       "      <th>id</th>\n",
       "      <th>tipo</th>\n",
       "      <th>titulo</th>\n",
       "      <th>diretor</th>\n",
       "      <th>elenco</th>\n",
       "      <th>pais</th>\n",
       "      <th>data_disponibilizacao</th>\n",
       "      <th>ano_lancamento</th>\n",
       "      <th>classificacao</th>\n",
       "      <th>duracao</th>\n",
       "      <th>categorias</th>\n",
       "      <th>descricao</th>\n",
       "    </tr>\n",
       "  </thead>\n",
       "  <tbody>\n",
       "    <tr>\n",
       "      <th>5541</th>\n",
       "      <td>s5542</td>\n",
       "      <td>Movie</td>\n",
       "      <td>Louis C.K. 2017</td>\n",
       "      <td>Louis C.K.</td>\n",
       "      <td>Louis C.K.</td>\n",
       "      <td>United States</td>\n",
       "      <td>April 4, 2017</td>\n",
       "      <td>2017</td>\n",
       "      <td>NaN</td>\n",
       "      <td>74 min</td>\n",
       "      <td>Movies</td>\n",
       "      <td>Louis C.K. muses on religion, eternal love, gi...</td>\n",
       "    </tr>\n",
       "    <tr>\n",
       "      <th>5794</th>\n",
       "      <td>s5795</td>\n",
       "      <td>Movie</td>\n",
       "      <td>Louis C.K.: Hilarious</td>\n",
       "      <td>Louis C.K.</td>\n",
       "      <td>Louis C.K.</td>\n",
       "      <td>United States</td>\n",
       "      <td>September 16, 2016</td>\n",
       "      <td>2010</td>\n",
       "      <td>NaN</td>\n",
       "      <td>84 min</td>\n",
       "      <td>Movies</td>\n",
       "      <td>Emmy-winning comedy writer Louis C.K. brings h...</td>\n",
       "    </tr>\n",
       "    <tr>\n",
       "      <th>5813</th>\n",
       "      <td>s5814</td>\n",
       "      <td>Movie</td>\n",
       "      <td>Louis C.K.: Live at the Comedy Store</td>\n",
       "      <td>Louis C.K.</td>\n",
       "      <td>Louis C.K.</td>\n",
       "      <td>United States</td>\n",
       "      <td>August 15, 2016</td>\n",
       "      <td>2015</td>\n",
       "      <td>NaN</td>\n",
       "      <td>66 min</td>\n",
       "      <td>Movies</td>\n",
       "      <td>The comic puts his trademark hilarious/thought...</td>\n",
       "    </tr>\n",
       "  </tbody>\n",
       "</table>\n",
       "</div>"
      ],
      "text/plain": [
       "         id   tipo                                titulo     diretor   \n",
       "5541  s5542  Movie                       Louis C.K. 2017  Louis C.K.  \\\n",
       "5794  s5795  Movie                 Louis C.K.: Hilarious  Louis C.K.   \n",
       "5813  s5814  Movie  Louis C.K.: Live at the Comedy Store  Louis C.K.   \n",
       "\n",
       "          elenco           pais data_disponibilizacao  ano_lancamento   \n",
       "5541  Louis C.K.  United States         April 4, 2017            2017  \\\n",
       "5794  Louis C.K.  United States    September 16, 2016            2010   \n",
       "5813  Louis C.K.  United States       August 15, 2016            2015   \n",
       "\n",
       "     classificacao duracao categorias   \n",
       "5541           NaN  74 min     Movies  \\\n",
       "5794           NaN  84 min     Movies   \n",
       "5813           NaN  66 min     Movies   \n",
       "\n",
       "                                              descricao  \n",
       "5541  Louis C.K. muses on religion, eternal love, gi...  \n",
       "5794  Emmy-winning comedy writer Louis C.K. brings h...  \n",
       "5813  The comic puts his trademark hilarious/thought...  "
      ]
     },
     "execution_count": 183,
     "metadata": {},
     "output_type": "execute_result"
    }
   ],
   "source": [
    "df_movie.loc[[5541, 5794, 5813]]"
   ]
  },
  {
   "cell_type": "code",
   "execution_count": 184,
   "id": "b8d6082a",
   "metadata": {},
   "outputs": [
    {
     "data": {
      "text/plain": [
       "5541    NaN\n",
       "5794    NaN\n",
       "5813    NaN\n",
       "Name: classificacao, dtype: object"
      ]
     },
     "execution_count": 184,
     "metadata": {},
     "output_type": "execute_result"
    }
   ],
   "source": [
    "df_movie.loc[[5541, 5794, 5813], 'classificacao']"
   ]
  },
  {
   "cell_type": "code",
   "execution_count": 185,
   "id": "9be62e99",
   "metadata": {},
   "outputs": [],
   "source": [
    "# utilizei o replace e depois um np.astype para converter a string para int\n",
    "df_movie['duracao_min'] = df_movie['duracao'].str.replace('min', '').astype(np.int64)"
   ]
  },
  {
   "cell_type": "code",
   "execution_count": 186,
   "id": "33e6d4ea",
   "metadata": {},
   "outputs": [
    {
     "data": {
      "text/html": [
       "<div>\n",
       "<style scoped>\n",
       "    .dataframe tbody tr th:only-of-type {\n",
       "        vertical-align: middle;\n",
       "    }\n",
       "\n",
       "    .dataframe tbody tr th {\n",
       "        vertical-align: top;\n",
       "    }\n",
       "\n",
       "    .dataframe thead th {\n",
       "        text-align: right;\n",
       "    }\n",
       "</style>\n",
       "<table border=\"1\" class=\"dataframe\">\n",
       "  <thead>\n",
       "    <tr style=\"text-align: right;\">\n",
       "      <th></th>\n",
       "      <th>id</th>\n",
       "      <th>tipo</th>\n",
       "      <th>titulo</th>\n",
       "      <th>diretor</th>\n",
       "      <th>elenco</th>\n",
       "      <th>pais</th>\n",
       "      <th>data_disponibilizacao</th>\n",
       "      <th>ano_lancamento</th>\n",
       "      <th>classificacao</th>\n",
       "      <th>duracao</th>\n",
       "      <th>categorias</th>\n",
       "      <th>descricao</th>\n",
       "      <th>duracao_min</th>\n",
       "    </tr>\n",
       "  </thead>\n",
       "  <tbody>\n",
       "    <tr>\n",
       "      <th>0</th>\n",
       "      <td>s1</td>\n",
       "      <td>Movie</td>\n",
       "      <td>Dick Johnson Is Dead</td>\n",
       "      <td>Kirsten Johnson</td>\n",
       "      <td>NaN</td>\n",
       "      <td>United States</td>\n",
       "      <td>September 25, 2021</td>\n",
       "      <td>2020</td>\n",
       "      <td>PG-13</td>\n",
       "      <td>90 min</td>\n",
       "      <td>Documentaries</td>\n",
       "      <td>As her father nears the end of his life, filmm...</td>\n",
       "      <td>90</td>\n",
       "    </tr>\n",
       "    <tr>\n",
       "      <th>6</th>\n",
       "      <td>s7</td>\n",
       "      <td>Movie</td>\n",
       "      <td>My Little Pony: A New Generation</td>\n",
       "      <td>Robert Cullen, José Luis Ucha</td>\n",
       "      <td>Vanessa Hudgens, Kimiko Glenn, James Marsden, ...</td>\n",
       "      <td>NaN</td>\n",
       "      <td>September 24, 2021</td>\n",
       "      <td>2021</td>\n",
       "      <td>PG</td>\n",
       "      <td>91 min</td>\n",
       "      <td>Children &amp; Family Movies</td>\n",
       "      <td>Equestria's divided. But a bright-eyed hero be...</td>\n",
       "      <td>91</td>\n",
       "    </tr>\n",
       "    <tr>\n",
       "      <th>7</th>\n",
       "      <td>s8</td>\n",
       "      <td>Movie</td>\n",
       "      <td>Sankofa</td>\n",
       "      <td>Haile Gerima</td>\n",
       "      <td>Kofi Ghanaba, Oyafunmike Ogunlano, Alexandra D...</td>\n",
       "      <td>United States, Ghana, Burkina Faso, United Kin...</td>\n",
       "      <td>September 24, 2021</td>\n",
       "      <td>1993</td>\n",
       "      <td>TV-MA</td>\n",
       "      <td>125 min</td>\n",
       "      <td>Dramas, Independent Movies, International Movies</td>\n",
       "      <td>On a photo shoot in Ghana, an American model s...</td>\n",
       "      <td>125</td>\n",
       "    </tr>\n",
       "    <tr>\n",
       "      <th>9</th>\n",
       "      <td>s10</td>\n",
       "      <td>Movie</td>\n",
       "      <td>The Starling</td>\n",
       "      <td>Theodore Melfi</td>\n",
       "      <td>Melissa McCarthy, Chris O'Dowd, Kevin Kline, T...</td>\n",
       "      <td>United States</td>\n",
       "      <td>September 24, 2021</td>\n",
       "      <td>2021</td>\n",
       "      <td>PG-13</td>\n",
       "      <td>104 min</td>\n",
       "      <td>Comedies, Dramas</td>\n",
       "      <td>A woman adjusting to life after a loss contend...</td>\n",
       "      <td>104</td>\n",
       "    </tr>\n",
       "    <tr>\n",
       "      <th>12</th>\n",
       "      <td>s13</td>\n",
       "      <td>Movie</td>\n",
       "      <td>Je Suis Karl</td>\n",
       "      <td>Christian Schwochow</td>\n",
       "      <td>Luna Wedler, Jannis Niewöhner, Milan Peschel, ...</td>\n",
       "      <td>Germany, Czech Republic</td>\n",
       "      <td>September 23, 2021</td>\n",
       "      <td>2021</td>\n",
       "      <td>TV-MA</td>\n",
       "      <td>127 min</td>\n",
       "      <td>Dramas, International Movies</td>\n",
       "      <td>After most of her family is murdered in a terr...</td>\n",
       "      <td>127</td>\n",
       "    </tr>\n",
       "  </tbody>\n",
       "</table>\n",
       "</div>"
      ],
      "text/plain": [
       "     id   tipo                            titulo   \n",
       "0    s1  Movie              Dick Johnson Is Dead  \\\n",
       "6    s7  Movie  My Little Pony: A New Generation   \n",
       "7    s8  Movie                           Sankofa   \n",
       "9   s10  Movie                      The Starling   \n",
       "12  s13  Movie                      Je Suis Karl   \n",
       "\n",
       "                          diretor   \n",
       "0                 Kirsten Johnson  \\\n",
       "6   Robert Cullen, José Luis Ucha   \n",
       "7                    Haile Gerima   \n",
       "9                  Theodore Melfi   \n",
       "12            Christian Schwochow   \n",
       "\n",
       "                                               elenco   \n",
       "0                                                 NaN  \\\n",
       "6   Vanessa Hudgens, Kimiko Glenn, James Marsden, ...   \n",
       "7   Kofi Ghanaba, Oyafunmike Ogunlano, Alexandra D...   \n",
       "9   Melissa McCarthy, Chris O'Dowd, Kevin Kline, T...   \n",
       "12  Luna Wedler, Jannis Niewöhner, Milan Peschel, ...   \n",
       "\n",
       "                                                 pais data_disponibilizacao   \n",
       "0                                       United States    September 25, 2021  \\\n",
       "6                                                 NaN    September 24, 2021   \n",
       "7   United States, Ghana, Burkina Faso, United Kin...    September 24, 2021   \n",
       "9                                       United States    September 24, 2021   \n",
       "12                            Germany, Czech Republic    September 23, 2021   \n",
       "\n",
       "    ano_lancamento classificacao  duracao   \n",
       "0             2020         PG-13   90 min  \\\n",
       "6             2021            PG   91 min   \n",
       "7             1993         TV-MA  125 min   \n",
       "9             2021         PG-13  104 min   \n",
       "12            2021         TV-MA  127 min   \n",
       "\n",
       "                                          categorias   \n",
       "0                                      Documentaries  \\\n",
       "6                           Children & Family Movies   \n",
       "7   Dramas, Independent Movies, International Movies   \n",
       "9                                   Comedies, Dramas   \n",
       "12                      Dramas, International Movies   \n",
       "\n",
       "                                            descricao  duracao_min  \n",
       "0   As her father nears the end of his life, filmm...           90  \n",
       "6   Equestria's divided. But a bright-eyed hero be...           91  \n",
       "7   On a photo shoot in Ghana, an American model s...          125  \n",
       "9   A woman adjusting to life after a loss contend...          104  \n",
       "12  After most of her family is murdered in a terr...          127  "
      ]
     },
     "execution_count": 186,
     "metadata": {},
     "output_type": "execute_result"
    }
   ],
   "source": [
    "df_movie.head()"
   ]
  },
  {
   "cell_type": "code",
   "execution_count": 187,
   "id": "281ad970",
   "metadata": {},
   "outputs": [
    {
     "data": {
      "text/plain": [
       "3"
      ]
     },
     "execution_count": 187,
     "metadata": {},
     "output_type": "execute_result"
    }
   ],
   "source": [
    "df_movie['duracao_min'].min()"
   ]
  },
  {
   "cell_type": "code",
   "execution_count": 188,
   "id": "e13356be",
   "metadata": {},
   "outputs": [
    {
     "data": {
      "text/plain": [
       "312"
      ]
     },
     "execution_count": 188,
     "metadata": {},
     "output_type": "execute_result"
    }
   ],
   "source": [
    "df_movie['duracao_min'].max()"
   ]
  },
  {
   "cell_type": "code",
   "execution_count": 189,
   "id": "7d338d1c",
   "metadata": {},
   "outputs": [
    {
     "data": {
      "text/html": [
       "<div>\n",
       "<style scoped>\n",
       "    .dataframe tbody tr th:only-of-type {\n",
       "        vertical-align: middle;\n",
       "    }\n",
       "\n",
       "    .dataframe tbody tr th {\n",
       "        vertical-align: top;\n",
       "    }\n",
       "\n",
       "    .dataframe thead th {\n",
       "        text-align: right;\n",
       "    }\n",
       "</style>\n",
       "<table border=\"1\" class=\"dataframe\">\n",
       "  <thead>\n",
       "    <tr style=\"text-align: right;\">\n",
       "      <th></th>\n",
       "      <th>id</th>\n",
       "      <th>tipo</th>\n",
       "      <th>titulo</th>\n",
       "      <th>diretor</th>\n",
       "      <th>elenco</th>\n",
       "      <th>pais</th>\n",
       "      <th>data_disponibilizacao</th>\n",
       "      <th>ano_lancamento</th>\n",
       "      <th>classificacao</th>\n",
       "      <th>duracao</th>\n",
       "      <th>categorias</th>\n",
       "      <th>descricao</th>\n",
       "      <th>duracao_min</th>\n",
       "    </tr>\n",
       "  </thead>\n",
       "  <tbody>\n",
       "    <tr>\n",
       "      <th>4253</th>\n",
       "      <td>s4254</td>\n",
       "      <td>Movie</td>\n",
       "      <td>Black Mirror: Bandersnatch</td>\n",
       "      <td>NaN</td>\n",
       "      <td>Fionn Whitehead, Will Poulter, Craig Parkinson...</td>\n",
       "      <td>United States</td>\n",
       "      <td>December 28, 2018</td>\n",
       "      <td>2018</td>\n",
       "      <td>TV-MA</td>\n",
       "      <td>312 min</td>\n",
       "      <td>Dramas, International Movies, Sci-Fi &amp; Fantasy</td>\n",
       "      <td>In 1984, a young programmer begins to question...</td>\n",
       "      <td>312</td>\n",
       "    </tr>\n",
       "  </tbody>\n",
       "</table>\n",
       "</div>"
      ],
      "text/plain": [
       "         id   tipo                      titulo diretor   \n",
       "4253  s4254  Movie  Black Mirror: Bandersnatch     NaN  \\\n",
       "\n",
       "                                                 elenco           pais   \n",
       "4253  Fionn Whitehead, Will Poulter, Craig Parkinson...  United States  \\\n",
       "\n",
       "     data_disponibilizacao  ano_lancamento classificacao  duracao   \n",
       "4253     December 28, 2018            2018         TV-MA  312 min  \\\n",
       "\n",
       "                                          categorias   \n",
       "4253  Dramas, International Movies, Sci-Fi & Fantasy  \\\n",
       "\n",
       "                                              descricao  duracao_min  \n",
       "4253  In 1984, a young programmer begins to question...          312  "
      ]
     },
     "execution_count": 189,
     "metadata": {},
     "output_type": "execute_result"
    }
   ],
   "source": [
    "# utilizando o query para localizar o filme com maior duracao\n",
    "df_movie.query(\"duracao_min == 312\")"
   ]
  },
  {
   "cell_type": "code",
   "execution_count": 190,
   "id": "ba475a05",
   "metadata": {},
   "outputs": [
    {
     "data": {
      "text/html": [
       "<div>\n",
       "<style scoped>\n",
       "    .dataframe tbody tr th:only-of-type {\n",
       "        vertical-align: middle;\n",
       "    }\n",
       "\n",
       "    .dataframe tbody tr th {\n",
       "        vertical-align: top;\n",
       "    }\n",
       "\n",
       "    .dataframe thead th {\n",
       "        text-align: right;\n",
       "    }\n",
       "</style>\n",
       "<table border=\"1\" class=\"dataframe\">\n",
       "  <thead>\n",
       "    <tr style=\"text-align: right;\">\n",
       "      <th></th>\n",
       "      <th>id</th>\n",
       "      <th>tipo</th>\n",
       "      <th>titulo</th>\n",
       "      <th>diretor</th>\n",
       "      <th>elenco</th>\n",
       "      <th>pais</th>\n",
       "      <th>data_disponibilizacao</th>\n",
       "      <th>ano_lancamento</th>\n",
       "      <th>classificacao</th>\n",
       "      <th>duracao</th>\n",
       "      <th>categorias</th>\n",
       "      <th>descricao</th>\n",
       "      <th>duracao_min</th>\n",
       "    </tr>\n",
       "  </thead>\n",
       "  <tbody>\n",
       "    <tr>\n",
       "      <th>1484</th>\n",
       "      <td>s1485</td>\n",
       "      <td>Movie</td>\n",
       "      <td>Cops and Robbers</td>\n",
       "      <td>Arnon Manor, Timothy Ware-Hill</td>\n",
       "      <td>Timothy Ware-Hill</td>\n",
       "      <td>United States</td>\n",
       "      <td>December 28, 2020</td>\n",
       "      <td>2020</td>\n",
       "      <td>PG-13</td>\n",
       "      <td>8 min</td>\n",
       "      <td>Dramas</td>\n",
       "      <td>Animation and activism unite in this multimedi...</td>\n",
       "      <td>8</td>\n",
       "    </tr>\n",
       "  </tbody>\n",
       "</table>\n",
       "</div>"
      ],
      "text/plain": [
       "         id   tipo            titulo                         diretor   \n",
       "1484  s1485  Movie  Cops and Robbers  Arnon Manor, Timothy Ware-Hill  \\\n",
       "\n",
       "                 elenco           pais data_disponibilizacao  ano_lancamento   \n",
       "1484  Timothy Ware-Hill  United States     December 28, 2020            2020  \\\n",
       "\n",
       "     classificacao duracao categorias   \n",
       "1484         PG-13   8 min     Dramas  \\\n",
       "\n",
       "                                              descricao  duracao_min  \n",
       "1484  Animation and activism unite in this multimedi...            8  "
      ]
     },
     "execution_count": 190,
     "metadata": {},
     "output_type": "execute_result"
    }
   ],
   "source": [
    "df_movie.query(\"duracao_min == 8\")"
   ]
  },
  {
   "cell_type": "code",
   "execution_count": 191,
   "id": "717247f7",
   "metadata": {},
   "outputs": [
    {
     "data": {
      "text/html": [
       "<div>\n",
       "<style scoped>\n",
       "    .dataframe tbody tr th:only-of-type {\n",
       "        vertical-align: middle;\n",
       "    }\n",
       "\n",
       "    .dataframe tbody tr th {\n",
       "        vertical-align: top;\n",
       "    }\n",
       "\n",
       "    .dataframe thead th {\n",
       "        text-align: right;\n",
       "    }\n",
       "</style>\n",
       "<table border=\"1\" class=\"dataframe\">\n",
       "  <thead>\n",
       "    <tr style=\"text-align: right;\">\n",
       "      <th></th>\n",
       "      <th>id</th>\n",
       "      <th>tipo</th>\n",
       "      <th>titulo</th>\n",
       "      <th>diretor</th>\n",
       "      <th>elenco</th>\n",
       "      <th>pais</th>\n",
       "      <th>data_disponibilizacao</th>\n",
       "      <th>ano_lancamento</th>\n",
       "      <th>classificacao</th>\n",
       "      <th>duracao</th>\n",
       "      <th>categorias</th>\n",
       "      <th>descricao</th>\n",
       "      <th>duracao_min</th>\n",
       "    </tr>\n",
       "  </thead>\n",
       "  <tbody>\n",
       "    <tr>\n",
       "      <th>4253</th>\n",
       "      <td>s4254</td>\n",
       "      <td>Movie</td>\n",
       "      <td>Black Mirror: Bandersnatch</td>\n",
       "      <td>NaN</td>\n",
       "      <td>Fionn Whitehead, Will Poulter, Craig Parkinson...</td>\n",
       "      <td>United States</td>\n",
       "      <td>December 28, 2018</td>\n",
       "      <td>2018</td>\n",
       "      <td>TV-MA</td>\n",
       "      <td>312 min</td>\n",
       "      <td>Dramas, International Movies, Sci-Fi &amp; Fantasy</td>\n",
       "      <td>In 1984, a young programmer begins to question...</td>\n",
       "      <td>312</td>\n",
       "    </tr>\n",
       "  </tbody>\n",
       "</table>\n",
       "</div>"
      ],
      "text/plain": [
       "         id   tipo                      titulo diretor   \n",
       "4253  s4254  Movie  Black Mirror: Bandersnatch     NaN  \\\n",
       "\n",
       "                                                 elenco           pais   \n",
       "4253  Fionn Whitehead, Will Poulter, Craig Parkinson...  United States  \\\n",
       "\n",
       "     data_disponibilizacao  ano_lancamento classificacao  duracao   \n",
       "4253     December 28, 2018            2018         TV-MA  312 min  \\\n",
       "\n",
       "                                          categorias   \n",
       "4253  Dramas, International Movies, Sci-Fi & Fantasy  \\\n",
       "\n",
       "                                              descricao  duracao_min  \n",
       "4253  In 1984, a young programmer begins to question...          312  "
      ]
     },
     "execution_count": 191,
     "metadata": {},
     "output_type": "execute_result"
    }
   ],
   "source": [
    "# utilizando o loc para localizar o filme com maior duração\n",
    "df_movie.loc[df_movie['duracao_min'] == 312]"
   ]
  },
  {
   "cell_type": "code",
   "execution_count": 192,
   "id": "d6e34364",
   "metadata": {},
   "outputs": [
    {
     "data": {
      "text/html": [
       "<div>\n",
       "<style scoped>\n",
       "    .dataframe tbody tr th:only-of-type {\n",
       "        vertical-align: middle;\n",
       "    }\n",
       "\n",
       "    .dataframe tbody tr th {\n",
       "        vertical-align: top;\n",
       "    }\n",
       "\n",
       "    .dataframe thead th {\n",
       "        text-align: right;\n",
       "    }\n",
       "</style>\n",
       "<table border=\"1\" class=\"dataframe\">\n",
       "  <thead>\n",
       "    <tr style=\"text-align: right;\">\n",
       "      <th></th>\n",
       "      <th>id</th>\n",
       "      <th>tipo</th>\n",
       "      <th>titulo</th>\n",
       "      <th>diretor</th>\n",
       "      <th>elenco</th>\n",
       "      <th>pais</th>\n",
       "      <th>data_disponibilizacao</th>\n",
       "      <th>ano_lancamento</th>\n",
       "      <th>classificacao</th>\n",
       "      <th>duracao</th>\n",
       "      <th>categorias</th>\n",
       "      <th>descricao</th>\n",
       "      <th>duracao_min</th>\n",
       "    </tr>\n",
       "  </thead>\n",
       "  <tbody>\n",
       "    <tr>\n",
       "      <th>1484</th>\n",
       "      <td>s1485</td>\n",
       "      <td>Movie</td>\n",
       "      <td>Cops and Robbers</td>\n",
       "      <td>Arnon Manor, Timothy Ware-Hill</td>\n",
       "      <td>Timothy Ware-Hill</td>\n",
       "      <td>United States</td>\n",
       "      <td>December 28, 2020</td>\n",
       "      <td>2020</td>\n",
       "      <td>PG-13</td>\n",
       "      <td>8 min</td>\n",
       "      <td>Dramas</td>\n",
       "      <td>Animation and activism unite in this multimedi...</td>\n",
       "      <td>8</td>\n",
       "    </tr>\n",
       "  </tbody>\n",
       "</table>\n",
       "</div>"
      ],
      "text/plain": [
       "         id   tipo            titulo                         diretor   \n",
       "1484  s1485  Movie  Cops and Robbers  Arnon Manor, Timothy Ware-Hill  \\\n",
       "\n",
       "                 elenco           pais data_disponibilizacao  ano_lancamento   \n",
       "1484  Timothy Ware-Hill  United States     December 28, 2020            2020  \\\n",
       "\n",
       "     classificacao duracao categorias   \n",
       "1484         PG-13   8 min     Dramas  \\\n",
       "\n",
       "                                              descricao  duracao_min  \n",
       "1484  Animation and activism unite in this multimedi...            8  "
      ]
     },
     "execution_count": 192,
     "metadata": {},
     "output_type": "execute_result"
    }
   ],
   "source": [
    "df_movie.loc[df_movie['duracao_min'] == 8]"
   ]
  },
  {
   "cell_type": "code",
   "execution_count": 193,
   "id": "48e97ce1",
   "metadata": {},
   "outputs": [
    {
     "data": {
      "text/plain": [
       "id                                                                   s4254\n",
       "tipo                                                                 Movie\n",
       "titulo                                          Black Mirror: Bandersnatch\n",
       "diretor                                                                NaN\n",
       "elenco                   Fionn Whitehead, Will Poulter, Craig Parkinson...\n",
       "pais                                                         United States\n",
       "data_disponibilizacao                                    December 28, 2018\n",
       "ano_lancamento                                                        2018\n",
       "classificacao                                                        TV-MA\n",
       "duracao                                                            312 min\n",
       "categorias                  Dramas, International Movies, Sci-Fi & Fantasy\n",
       "descricao                In 1984, a young programmer begins to question...\n",
       "duracao_min                                                            312\n",
       "Name: 4253, dtype: object"
      ]
     },
     "execution_count": 193,
     "metadata": {},
     "output_type": "execute_result"
    }
   ],
   "source": [
    "df_movie.loc[4253]"
   ]
  },
  {
   "cell_type": "code",
   "execution_count": 194,
   "id": "a46eb5b9",
   "metadata": {},
   "outputs": [
    {
     "data": {
      "text/html": [
       "<div>\n",
       "<style scoped>\n",
       "    .dataframe tbody tr th:only-of-type {\n",
       "        vertical-align: middle;\n",
       "    }\n",
       "\n",
       "    .dataframe tbody tr th {\n",
       "        vertical-align: top;\n",
       "    }\n",
       "\n",
       "    .dataframe thead th {\n",
       "        text-align: right;\n",
       "    }\n",
       "</style>\n",
       "<table border=\"1\" class=\"dataframe\">\n",
       "  <thead>\n",
       "    <tr style=\"text-align: right;\">\n",
       "      <th></th>\n",
       "      <th>id</th>\n",
       "      <th>tipo</th>\n",
       "      <th>titulo</th>\n",
       "      <th>diretor</th>\n",
       "      <th>elenco</th>\n",
       "      <th>pais</th>\n",
       "      <th>data_disponibilizacao</th>\n",
       "      <th>ano_lancamento</th>\n",
       "      <th>classificacao</th>\n",
       "      <th>duracao</th>\n",
       "      <th>categorias</th>\n",
       "      <th>descricao</th>\n",
       "      <th>duracao_min</th>\n",
       "    </tr>\n",
       "  </thead>\n",
       "  <tbody>\n",
       "    <tr>\n",
       "      <th>4253</th>\n",
       "      <td>s4254</td>\n",
       "      <td>Movie</td>\n",
       "      <td>Black Mirror: Bandersnatch</td>\n",
       "      <td>NaN</td>\n",
       "      <td>Fionn Whitehead, Will Poulter, Craig Parkinson...</td>\n",
       "      <td>United States</td>\n",
       "      <td>December 28, 2018</td>\n",
       "      <td>2018</td>\n",
       "      <td>TV-MA</td>\n",
       "      <td>312 min</td>\n",
       "      <td>Dramas, International Movies, Sci-Fi &amp; Fantasy</td>\n",
       "      <td>In 1984, a young programmer begins to question...</td>\n",
       "      <td>312</td>\n",
       "    </tr>\n",
       "  </tbody>\n",
       "</table>\n",
       "</div>"
      ],
      "text/plain": [
       "         id   tipo                      titulo diretor   \n",
       "4253  s4254  Movie  Black Mirror: Bandersnatch     NaN  \\\n",
       "\n",
       "                                                 elenco           pais   \n",
       "4253  Fionn Whitehead, Will Poulter, Craig Parkinson...  United States  \\\n",
       "\n",
       "     data_disponibilizacao  ano_lancamento classificacao  duracao   \n",
       "4253     December 28, 2018            2018         TV-MA  312 min  \\\n",
       "\n",
       "                                          categorias   \n",
       "4253  Dramas, International Movies, Sci-Fi & Fantasy  \\\n",
       "\n",
       "                                              descricao  duracao_min  \n",
       "4253  In 1984, a young programmer begins to question...          312  "
      ]
     },
     "execution_count": 194,
     "metadata": {},
     "output_type": "execute_result"
    }
   ],
   "source": [
    "df_movie.loc[df_movie['titulo'] == 'Black Mirror: Bandersnatch']"
   ]
  },
  {
   "cell_type": "code",
   "execution_count": 195,
   "id": "2b67a55a",
   "metadata": {},
   "outputs": [],
   "source": [
    "df_tratado.loc[4253, 'duracao'] = '90 min'"
   ]
  },
  {
   "cell_type": "code",
   "execution_count": 196,
   "id": "9c444c9b",
   "metadata": {},
   "outputs": [
    {
     "data": {
      "text/plain": [
       "id                                                                   s4254\n",
       "tipo                                                                 Movie\n",
       "titulo                                          Black Mirror: Bandersnatch\n",
       "diretor                                                                NaN\n",
       "elenco                   Fionn Whitehead, Will Poulter, Craig Parkinson...\n",
       "pais                                                         United States\n",
       "data_disponibilizacao                                    December 28, 2018\n",
       "ano_lancamento                                                        2018\n",
       "classificacao                                                        TV-MA\n",
       "duracao                                                             90 min\n",
       "categorias                  Dramas, International Movies, Sci-Fi & Fantasy\n",
       "descricao                In 1984, a young programmer begins to question...\n",
       "Name: 4253, dtype: object"
      ]
     },
     "execution_count": 196,
     "metadata": {},
     "output_type": "execute_result"
    }
   ],
   "source": [
    "df_tratado.loc[4253]"
   ]
  },
  {
   "attachments": {},
   "cell_type": "markdown",
   "id": "9efa536b",
   "metadata": {},
   "source": [
    "# 8 - Qual o tempo médio de duração de um filme\n",
    "O tempo médio de duração de um filme pe 99 min."
   ]
  },
  {
   "cell_type": "code",
   "execution_count": 197,
   "id": "53abf71b",
   "metadata": {},
   "outputs": [],
   "source": [
    "linhas, colunas = df_movie.shape"
   ]
  },
  {
   "cell_type": "code",
   "execution_count": 198,
   "id": "03c7e515",
   "metadata": {},
   "outputs": [
    {
     "data": {
      "text/plain": [
       "99.56499755341706"
      ]
     },
     "execution_count": 198,
     "metadata": {},
     "output_type": "execute_result"
    }
   ],
   "source": [
    "df_movie['duracao_min'].sum() / linhas"
   ]
  },
  {
   "cell_type": "code",
   "execution_count": 199,
   "id": "27e84b84",
   "metadata": {},
   "outputs": [
    {
     "data": {
      "image/png": "[encoded data removed]",
      "text/plain": [
       "<Figure size 640x480 with 1 Axes>"
      ]
     },
     "metadata": {},
     "output_type": "display_data"
    }
   ],
   "source": [
    "sns.boxplot(x=df_movie['duracao_min']);"
   ]
  },
  {
   "cell_type": "code",
   "execution_count": 200,
   "id": "7d4086eb",
   "metadata": {},
   "outputs": [
    {
     "data": {
      "text/plain": [
       "4253    312\n",
       "717     273\n",
       "2491    253\n",
       "2487    237\n",
       "2484    233\n",
       "       ... \n",
       "3535     10\n",
       "1557      9\n",
       "1484      8\n",
       "2713      5\n",
       "3777      3\n",
       "Name: duracao_min, Length: 6131, dtype: int64"
      ]
     },
     "execution_count": 200,
     "metadata": {},
     "output_type": "execute_result"
    }
   ],
   "source": [
    "df_movie['duracao_min'].sort_values(ascending=False)"
   ]
  },
  {
   "cell_type": "code",
   "execution_count": 201,
   "id": "018770b0",
   "metadata": {},
   "outputs": [],
   "source": [
    "df_movie.loc[717, 'duracao_min'] = 15\n",
    "df_movie.loc[717, 'duracao'] = '15 min'"
   ]
  },
  {
   "cell_type": "code",
   "execution_count": 202,
   "id": "ef7709fb",
   "metadata": {},
   "outputs": [
    {
     "data": {
      "text/plain": [
       "id                                                                    s718\n",
       "tipo                                                                 Movie\n",
       "titulo                                         Headspace: Unwind Your Mind\n",
       "diretor                                                                NaN\n",
       "elenco                   Andy Puddicombe, Evelyn Lewis Prieto, Ginger D...\n",
       "pais                                                                   NaN\n",
       "data_disponibilizacao                                        June 15, 2021\n",
       "ano_lancamento                                                        2021\n",
       "classificacao                                                         TV-G\n",
       "duracao                                                             15 min\n",
       "categorias                                                   Documentaries\n",
       "descricao                Do you want to relax, meditate or sleep deeply...\n",
       "duracao_min                                                             15\n",
       "Name: 717, dtype: object"
      ]
     },
     "execution_count": 202,
     "metadata": {},
     "output_type": "execute_result"
    }
   ],
   "source": [
    "df_movie.loc[717]"
   ]
  },
  {
   "cell_type": "code",
   "execution_count": 203,
   "id": "222f182d",
   "metadata": {},
   "outputs": [
    {
     "data": {
      "text/plain": [
       "count       6131\n",
       "unique       204\n",
       "top       90 min\n",
       "freq         152\n",
       "Name: duracao, dtype: object"
      ]
     },
     "execution_count": 203,
     "metadata": {},
     "output_type": "execute_result"
    }
   ],
   "source": [
    "# dos 6131 filmes, há 203 tempos de duração únicosm sendo '90 min' os que mais se repetem, um total de 153 vezes\n",
    "df_movie['duracao'].describe()"
   ]
  },
  {
   "cell_type": "code",
   "execution_count": 204,
   "id": "708e806e",
   "metadata": {},
   "outputs": [
    {
     "data": {
      "text/plain": [
       "count    6131.000000\n",
       "mean       99.522916\n",
       "std        28.223287\n",
       "min         3.000000\n",
       "25%        87.000000\n",
       "50%        98.000000\n",
       "75%       114.000000\n",
       "max       312.000000\n",
       "Name: duracao_min, dtype: float64"
      ]
     },
     "execution_count": 204,
     "metadata": {},
     "output_type": "execute_result"
    }
   ],
   "source": [
    "df_movie['duracao_min'].describe()"
   ]
  },
  {
   "cell_type": "code",
   "execution_count": 205,
   "id": "627bb2d4",
   "metadata": {},
   "outputs": [
    {
     "data": {
      "text/plain": [
       "99.52"
      ]
     },
     "execution_count": 205,
     "metadata": {},
     "output_type": "execute_result"
    }
   ],
   "source": [
    "round(df_movie['duracao_min'].mean(), 2)"
   ]
  },
  {
   "attachments": {},
   "cell_type": "markdown",
   "id": "400b86e9",
   "metadata": {},
   "source": [
    "# 9 - Liste os 3 países que produzem a maior quantidade de séries.\n",
    "United States                                    760, \n",
    "United Kingdom                                   213, \n",
    "Japan                                            169."
   ]
  },
  {
   "cell_type": "code",
   "execution_count": 206,
   "id": "33aa0d04",
   "metadata": {},
   "outputs": [
    {
     "data": {
      "text/html": [
       "<div>\n",
       "<style scoped>\n",
       "    .dataframe tbody tr th:only-of-type {\n",
       "        vertical-align: middle;\n",
       "    }\n",
       "\n",
       "    .dataframe tbody tr th {\n",
       "        vertical-align: top;\n",
       "    }\n",
       "\n",
       "    .dataframe thead th {\n",
       "        text-align: right;\n",
       "    }\n",
       "</style>\n",
       "<table border=\"1\" class=\"dataframe\">\n",
       "  <thead>\n",
       "    <tr style=\"text-align: right;\">\n",
       "      <th></th>\n",
       "      <th>id</th>\n",
       "      <th>tipo</th>\n",
       "      <th>titulo</th>\n",
       "      <th>diretor</th>\n",
       "      <th>elenco</th>\n",
       "      <th>pais</th>\n",
       "      <th>data_disponibilizacao</th>\n",
       "      <th>ano_lancamento</th>\n",
       "      <th>classificacao</th>\n",
       "      <th>duracao</th>\n",
       "      <th>categorias</th>\n",
       "      <th>descricao</th>\n",
       "    </tr>\n",
       "  </thead>\n",
       "  <tbody>\n",
       "    <tr>\n",
       "      <th>0</th>\n",
       "      <td>s1</td>\n",
       "      <td>Movie</td>\n",
       "      <td>Dick Johnson Is Dead</td>\n",
       "      <td>Kirsten Johnson</td>\n",
       "      <td>NaN</td>\n",
       "      <td>United States</td>\n",
       "      <td>September 25, 2021</td>\n",
       "      <td>2020</td>\n",
       "      <td>PG-13</td>\n",
       "      <td>90 min</td>\n",
       "      <td>Documentaries</td>\n",
       "      <td>As her father nears the end of his life, filmm...</td>\n",
       "    </tr>\n",
       "    <tr>\n",
       "      <th>1</th>\n",
       "      <td>s2</td>\n",
       "      <td>TV Show</td>\n",
       "      <td>Blood &amp; Water</td>\n",
       "      <td>NaN</td>\n",
       "      <td>Ama Qamata, Khosi Ngema, Gail Mabalane, Thaban...</td>\n",
       "      <td>South Africa</td>\n",
       "      <td>September 24, 2021</td>\n",
       "      <td>2021</td>\n",
       "      <td>TV-MA</td>\n",
       "      <td>2 Seasons</td>\n",
       "      <td>International TV Shows, TV Dramas, TV Mysteries</td>\n",
       "      <td>After crossing paths at a party, a Cape Town t...</td>\n",
       "    </tr>\n",
       "  </tbody>\n",
       "</table>\n",
       "</div>"
      ],
      "text/plain": [
       "   id     tipo                titulo          diretor   \n",
       "0  s1    Movie  Dick Johnson Is Dead  Kirsten Johnson  \\\n",
       "1  s2  TV Show         Blood & Water              NaN   \n",
       "\n",
       "                                              elenco           pais   \n",
       "0                                                NaN  United States  \\\n",
       "1  Ama Qamata, Khosi Ngema, Gail Mabalane, Thaban...   South Africa   \n",
       "\n",
       "  data_disponibilizacao  ano_lancamento classificacao    duracao   \n",
       "0    September 25, 2021            2020         PG-13     90 min  \\\n",
       "1    September 24, 2021            2021         TV-MA  2 Seasons   \n",
       "\n",
       "                                        categorias   \n",
       "0                                    Documentaries  \\\n",
       "1  International TV Shows, TV Dramas, TV Mysteries   \n",
       "\n",
       "                                           descricao  \n",
       "0  As her father nears the end of his life, filmm...  \n",
       "1  After crossing paths at a party, a Cape Town t...  "
      ]
     },
     "execution_count": 206,
     "metadata": {},
     "output_type": "execute_result"
    }
   ],
   "source": [
    "df_tratado.head(2)"
   ]
  },
  {
   "cell_type": "code",
   "execution_count": 207,
   "id": "b3d8f1e2",
   "metadata": {},
   "outputs": [],
   "source": [
    "# criando uma variável para guardar um DataFrame apenas com os TV Show.\n",
    "df_tv_show = df_tratado.loc[df_tratado['tipo'] == 'TV Show']"
   ]
  },
  {
   "cell_type": "code",
   "execution_count": 208,
   "id": "d5595561",
   "metadata": {},
   "outputs": [
    {
     "data": {
      "text/html": [
       "<div>\n",
       "<style scoped>\n",
       "    .dataframe tbody tr th:only-of-type {\n",
       "        vertical-align: middle;\n",
       "    }\n",
       "\n",
       "    .dataframe tbody tr th {\n",
       "        vertical-align: top;\n",
       "    }\n",
       "\n",
       "    .dataframe thead th {\n",
       "        text-align: right;\n",
       "    }\n",
       "</style>\n",
       "<table border=\"1\" class=\"dataframe\">\n",
       "  <thead>\n",
       "    <tr style=\"text-align: right;\">\n",
       "      <th></th>\n",
       "      <th>id</th>\n",
       "      <th>tipo</th>\n",
       "      <th>titulo</th>\n",
       "      <th>diretor</th>\n",
       "      <th>elenco</th>\n",
       "      <th>pais</th>\n",
       "      <th>data_disponibilizacao</th>\n",
       "      <th>ano_lancamento</th>\n",
       "      <th>classificacao</th>\n",
       "      <th>duracao</th>\n",
       "      <th>categorias</th>\n",
       "      <th>descricao</th>\n",
       "    </tr>\n",
       "  </thead>\n",
       "  <tbody>\n",
       "    <tr>\n",
       "      <th>2</th>\n",
       "      <td>s3</td>\n",
       "      <td>TV Show</td>\n",
       "      <td>Ganglands</td>\n",
       "      <td>Julien Leclercq</td>\n",
       "      <td>Sami Bouajila, Tracy Gotoas, Samuel Jouy, Nabi...</td>\n",
       "      <td>NaN</td>\n",
       "      <td>September 24, 2021</td>\n",
       "      <td>2021</td>\n",
       "      <td>TV-MA</td>\n",
       "      <td>1 Season</td>\n",
       "      <td>Crime TV Shows, International TV Shows, TV Act...</td>\n",
       "      <td>To protect his family from a powerful drug lor...</td>\n",
       "    </tr>\n",
       "    <tr>\n",
       "      <th>3</th>\n",
       "      <td>s4</td>\n",
       "      <td>TV Show</td>\n",
       "      <td>Jailbirds New Orleans</td>\n",
       "      <td>NaN</td>\n",
       "      <td>NaN</td>\n",
       "      <td>NaN</td>\n",
       "      <td>September 24, 2021</td>\n",
       "      <td>2021</td>\n",
       "      <td>TV-MA</td>\n",
       "      <td>1 Season</td>\n",
       "      <td>Docuseries, Reality TV</td>\n",
       "      <td>Feuds, flirtations and toilet talk go down amo...</td>\n",
       "    </tr>\n",
       "    <tr>\n",
       "      <th>5</th>\n",
       "      <td>s6</td>\n",
       "      <td>TV Show</td>\n",
       "      <td>Midnight Mass</td>\n",
       "      <td>Mike Flanagan</td>\n",
       "      <td>Kate Siegel, Zach Gilford, Hamish Linklater, H...</td>\n",
       "      <td>NaN</td>\n",
       "      <td>September 24, 2021</td>\n",
       "      <td>2021</td>\n",
       "      <td>TV-MA</td>\n",
       "      <td>1 Season</td>\n",
       "      <td>TV Dramas, TV Horror, TV Mysteries</td>\n",
       "      <td>The arrival of a charismatic young priest brin...</td>\n",
       "    </tr>\n",
       "    <tr>\n",
       "      <th>10</th>\n",
       "      <td>s11</td>\n",
       "      <td>TV Show</td>\n",
       "      <td>Vendetta: Truth, Lies and The Mafia</td>\n",
       "      <td>NaN</td>\n",
       "      <td>NaN</td>\n",
       "      <td>NaN</td>\n",
       "      <td>September 24, 2021</td>\n",
       "      <td>2021</td>\n",
       "      <td>TV-MA</td>\n",
       "      <td>1 Season</td>\n",
       "      <td>Crime TV Shows, Docuseries, International TV S...</td>\n",
       "      <td>Sicily boasts a bold \"Anti-Mafia\" coalition. B...</td>\n",
       "    </tr>\n",
       "    <tr>\n",
       "      <th>11</th>\n",
       "      <td>s12</td>\n",
       "      <td>TV Show</td>\n",
       "      <td>Bangkok Breaking</td>\n",
       "      <td>Kongkiat Komesiri</td>\n",
       "      <td>Sukollawat Kanarot, Sushar Manaying, Pavarit M...</td>\n",
       "      <td>NaN</td>\n",
       "      <td>September 23, 2021</td>\n",
       "      <td>2021</td>\n",
       "      <td>TV-MA</td>\n",
       "      <td>1 Season</td>\n",
       "      <td>Crime TV Shows, International TV Shows, TV Act...</td>\n",
       "      <td>Struggling to earn a living in Bangkok, a man ...</td>\n",
       "    </tr>\n",
       "  </tbody>\n",
       "</table>\n",
       "</div>"
      ],
      "text/plain": [
       "     id     tipo                               titulo            diretor   \n",
       "2    s3  TV Show                            Ganglands    Julien Leclercq  \\\n",
       "3    s4  TV Show                Jailbirds New Orleans                NaN   \n",
       "5    s6  TV Show                        Midnight Mass      Mike Flanagan   \n",
       "10  s11  TV Show  Vendetta: Truth, Lies and The Mafia                NaN   \n",
       "11  s12  TV Show                     Bangkok Breaking  Kongkiat Komesiri   \n",
       "\n",
       "                                               elenco pais   \n",
       "2   Sami Bouajila, Tracy Gotoas, Samuel Jouy, Nabi...  NaN  \\\n",
       "3                                                 NaN  NaN   \n",
       "5   Kate Siegel, Zach Gilford, Hamish Linklater, H...  NaN   \n",
       "10                                                NaN  NaN   \n",
       "11  Sukollawat Kanarot, Sushar Manaying, Pavarit M...  NaN   \n",
       "\n",
       "   data_disponibilizacao  ano_lancamento classificacao   duracao   \n",
       "2     September 24, 2021            2021         TV-MA  1 Season  \\\n",
       "3     September 24, 2021            2021         TV-MA  1 Season   \n",
       "5     September 24, 2021            2021         TV-MA  1 Season   \n",
       "10    September 24, 2021            2021         TV-MA  1 Season   \n",
       "11    September 23, 2021            2021         TV-MA  1 Season   \n",
       "\n",
       "                                           categorias   \n",
       "2   Crime TV Shows, International TV Shows, TV Act...  \\\n",
       "3                              Docuseries, Reality TV   \n",
       "5                  TV Dramas, TV Horror, TV Mysteries   \n",
       "10  Crime TV Shows, Docuseries, International TV S...   \n",
       "11  Crime TV Shows, International TV Shows, TV Act...   \n",
       "\n",
       "                                            descricao  \n",
       "2   To protect his family from a powerful drug lor...  \n",
       "3   Feuds, flirtations and toilet talk go down amo...  \n",
       "5   The arrival of a charismatic young priest brin...  \n",
       "10  Sicily boasts a bold \"Anti-Mafia\" coalition. B...  \n",
       "11  Struggling to earn a living in Bangkok, a man ...  "
      ]
     },
     "execution_count": 208,
     "metadata": {},
     "output_type": "execute_result"
    }
   ],
   "source": [
    "# verificando as colunas nulas em pais\n",
    "df_tv_show.loc[df_tv_show['pais'].isna()].head()"
   ]
  },
  {
   "cell_type": "code",
   "execution_count": 209,
   "id": "bc6f6b87",
   "metadata": {},
   "outputs": [
    {
     "data": {
      "text/plain": [
       "pais\n",
       "United States                                    760\n",
       "NaN                                              391\n",
       "United Kingdom                                   213\n",
       "Japan                                            169\n",
       "South Korea                                      158\n",
       "                                                ... \n",
       "Belarus                                            1\n",
       "United Kingdom, Australia                          1\n",
       "France, Australia, Germany                         1\n",
       "Australia, New Zealand, United States              1\n",
       "United States, France, South Korea, Indonesia      1\n",
       "Name: count, Length: 197, dtype: int64"
      ]
     },
     "execution_count": 209,
     "metadata": {},
     "output_type": "execute_result"
    }
   ],
   "source": [
    "df_tv_show['pais'].value_counts(dropna=False)"
   ]
  },
  {
   "attachments": {},
   "cell_type": "markdown",
   "id": "6e0d4b13",
   "metadata": {},
   "source": [
    "# 10 - Em qual ano temos a maior quantidade de filmes e séries brasileiros na Netflix.\n",
    "R.: 2020. Com um total de 27 séries e filmes disponibilizados."
   ]
  },
  {
   "cell_type": "code",
   "execution_count": 210,
   "id": "62bc049a",
   "metadata": {},
   "outputs": [
    {
     "data": {
      "text/plain": [
       "pais\n",
       ", France, Algeria                                       1\n",
       ", South Korea                                           1\n",
       "Argentina                                              56\n",
       "Argentina, Brazil, France, Poland, Germany, Denmark     1\n",
       "Argentina, Chile                                        2\n",
       "                                                       ..\n",
       "Venezuela                                               1\n",
       "Venezuela, Colombia                                     1\n",
       "Vietnam                                                 7\n",
       "West Germany                                            1\n",
       "Zimbabwe                                                1\n",
       "Name: count, Length: 748, dtype: int64"
      ]
     },
     "execution_count": 210,
     "metadata": {},
     "output_type": "execute_result"
    }
   ],
   "source": [
    "df_tratado['pais'].value_counts().sort_index()"
   ]
  },
  {
   "cell_type": "code",
   "execution_count": 228,
   "id": "f857f7d1",
   "metadata": {},
   "outputs": [],
   "source": [
    "df_tratado_brazil = df_tratado.loc[df_tratado['pais'].notna() & df_tratado['pais'].str.contains('Brazil')].copy()"
   ]
  },
  {
   "cell_type": "code",
   "execution_count": 229,
   "id": "d3d1e90c",
   "metadata": {},
   "outputs": [
    {
     "ename": "AttributeError",
     "evalue": "Can only use .dt accessor with datetimelike values",
     "output_type": "error",
     "traceback": [
      "\u001b[1;31m---------------------------------------------------------------------------\u001b[0m",
      "\u001b[1;31mAttributeError\u001b[0m                            Traceback (most recent call last)",
      "Cell \u001b[1;32mIn[229], line 2\u001b[0m\n\u001b[0;32m      1\u001b[0m \u001b[39m# por motivo da coluna 'data_disponibilizacao' se tratar de um DateTime, então pude invocar métodos referentes a essa classe.\u001b[39;00m\n\u001b[1;32m----> 2\u001b[0m df_tratado_brazil[\u001b[39m'\u001b[39;49m\u001b[39mdata_disponibilizacao\u001b[39;49m\u001b[39m'\u001b[39;49m]\u001b[39m.\u001b[39;49mdt\u001b[39m.\u001b[39myear\u001b[39m.\u001b[39mvalue_counts()\n",
      "File \u001b[1;32mc:\\Users\\fcris\\OneDrive\\Documentos\\PYTHON\\analise_de_dados\\analise_netflix\\venv\\Lib\\site-packages\\pandas\\core\\generic.py:5989\u001b[0m, in \u001b[0;36mNDFrame.__getattr__\u001b[1;34m(self, name)\u001b[0m\n\u001b[0;32m   5982\u001b[0m \u001b[39mif\u001b[39;00m (\n\u001b[0;32m   5983\u001b[0m     name \u001b[39mnot\u001b[39;00m \u001b[39min\u001b[39;00m \u001b[39mself\u001b[39m\u001b[39m.\u001b[39m_internal_names_set\n\u001b[0;32m   5984\u001b[0m     \u001b[39mand\u001b[39;00m name \u001b[39mnot\u001b[39;00m \u001b[39min\u001b[39;00m \u001b[39mself\u001b[39m\u001b[39m.\u001b[39m_metadata\n\u001b[0;32m   5985\u001b[0m     \u001b[39mand\u001b[39;00m name \u001b[39mnot\u001b[39;00m \u001b[39min\u001b[39;00m \u001b[39mself\u001b[39m\u001b[39m.\u001b[39m_accessors\n\u001b[0;32m   5986\u001b[0m     \u001b[39mand\u001b[39;00m \u001b[39mself\u001b[39m\u001b[39m.\u001b[39m_info_axis\u001b[39m.\u001b[39m_can_hold_identifiers_and_holds_name(name)\n\u001b[0;32m   5987\u001b[0m ):\n\u001b[0;32m   5988\u001b[0m     \u001b[39mreturn\u001b[39;00m \u001b[39mself\u001b[39m[name]\n\u001b[1;32m-> 5989\u001b[0m \u001b[39mreturn\u001b[39;00m \u001b[39mobject\u001b[39;49m\u001b[39m.\u001b[39;49m\u001b[39m__getattribute__\u001b[39;49m(\u001b[39mself\u001b[39;49m, name)\n",
      "File \u001b[1;32mc:\\Users\\fcris\\OneDrive\\Documentos\\PYTHON\\analise_de_dados\\analise_netflix\\venv\\Lib\\site-packages\\pandas\\core\\accessor.py:224\u001b[0m, in \u001b[0;36mCachedAccessor.__get__\u001b[1;34m(self, obj, cls)\u001b[0m\n\u001b[0;32m    221\u001b[0m \u001b[39mif\u001b[39;00m obj \u001b[39mis\u001b[39;00m \u001b[39mNone\u001b[39;00m:\n\u001b[0;32m    222\u001b[0m     \u001b[39m# we're accessing the attribute of the class, i.e., Dataset.geo\u001b[39;00m\n\u001b[0;32m    223\u001b[0m     \u001b[39mreturn\u001b[39;00m \u001b[39mself\u001b[39m\u001b[39m.\u001b[39m_accessor\n\u001b[1;32m--> 224\u001b[0m accessor_obj \u001b[39m=\u001b[39m \u001b[39mself\u001b[39;49m\u001b[39m.\u001b[39;49m_accessor(obj)\n\u001b[0;32m    225\u001b[0m \u001b[39m# Replace the property with the accessor object. Inspired by:\u001b[39;00m\n\u001b[0;32m    226\u001b[0m \u001b[39m# https://www.pydanny.com/cached-property.html\u001b[39;00m\n\u001b[0;32m    227\u001b[0m \u001b[39m# We need to use object.__setattr__ because we overwrite __setattr__ on\u001b[39;00m\n\u001b[0;32m    228\u001b[0m \u001b[39m# NDFrame\u001b[39;00m\n\u001b[0;32m    229\u001b[0m \u001b[39mobject\u001b[39m\u001b[39m.\u001b[39m\u001b[39m__setattr__\u001b[39m(obj, \u001b[39mself\u001b[39m\u001b[39m.\u001b[39m_name, accessor_obj)\n",
      "File \u001b[1;32mc:\\Users\\fcris\\OneDrive\\Documentos\\PYTHON\\analise_de_dados\\analise_netflix\\venv\\Lib\\site-packages\\pandas\\core\\indexes\\accessors.py:580\u001b[0m, in \u001b[0;36mCombinedDatetimelikeProperties.__new__\u001b[1;34m(cls, data)\u001b[0m\n\u001b[0;32m    577\u001b[0m \u001b[39melif\u001b[39;00m is_period_dtype(data\u001b[39m.\u001b[39mdtype):\n\u001b[0;32m    578\u001b[0m     \u001b[39mreturn\u001b[39;00m PeriodProperties(data, orig)\n\u001b[1;32m--> 580\u001b[0m \u001b[39mraise\u001b[39;00m \u001b[39mAttributeError\u001b[39;00m(\u001b[39m\"\u001b[39m\u001b[39mCan only use .dt accessor with datetimelike values\u001b[39m\u001b[39m\"\u001b[39m)\n",
      "\u001b[1;31mAttributeError\u001b[0m: Can only use .dt accessor with datetimelike values"
     ]
    }
   ],
   "source": [
    "# por motivo da coluna 'data_disponibilizacao' se tratar de um DateTime, então pude invocar métodos referentes a essa classe.\n",
    "df_tratado_brazil['data_disponibilizacao'].dt.year.value_counts()"
   ]
  },
  {
   "cell_type": "code",
   "execution_count": null,
   "id": "c9185751",
   "metadata": {},
   "outputs": [
    {
     "data": {
      "image/png": "[encoded data removed]",
      "text/plain": [
       "<Figure size 640x480 with 1 Axes>"
      ]
     },
     "metadata": {},
     "output_type": "display_data"
    }
   ],
   "source": [
    "# inverti pelo index utilizando o sorte by e plotei um gráfico.\n",
    "df_tratado_brazil['data_disponibilizacao'].dt.year.value_counts().sort_index().sort_index().plot(kind='bar');"
   ]
  },
  {
   "attachments": {},
   "cell_type": "markdown",
   "id": "01486d34",
   "metadata": {},
   "source": [
    "# 11 - Qual(ais) o(s) diretor(es) brasileiro(s) com o maior número de títulos (filmes/séries)?\n",
    "R.: Os diretores brasileiros com maior número de títulos adicionados são: Lucas Margutti (3) e Diego Pignataro (3)"
   ]
  },
  {
   "cell_type": "code",
   "execution_count": null,
   "id": "aa07abe9",
   "metadata": {},
   "outputs": [
    {
     "data": {
      "text/plain": [
       "Lucas Margutti                  3\n",
       "Diego Pignataro                 3\n",
       "Marcelo Galvão                  2\n",
       "Alexandre Avancini              2\n",
       "Bruno Garotti                   2\n",
       "                               ..\n",
       "Petra Costa, Lea Glob           1\n",
       "Wagner de Assis                 1\n",
       "Fernando Ayllón                 1\n",
       "Cavi Borges, Luciano Vidigal    1\n",
       "Tiffanie Hsu                    1\n",
       "Name: diretor, Length: 61, dtype: int64"
      ]
     },
     "execution_count": 705,
     "metadata": {},
     "output_type": "execute_result"
    }
   ],
   "source": [
    "df_tratado_brazil['diretor'].value_counts()"
   ]
  },
  {
   "attachments": {},
   "cell_type": "markdown",
   "id": "8833fff5",
   "metadata": {},
   "source": [
    "# 12 - Existem mais conteúdos para adultos ou para crianças e adolescentes?\n",
    "R.: Existe mais conteudo para crianças e adolescentes. Total de 4702, contra 4086 para adultos."
   ]
  },
  {
   "cell_type": "code",
   "execution_count": null,
   "id": "1d8a8c1a",
   "metadata": {},
   "outputs": [
    {
     "data": {
      "text/html": [
       "<div>\n",
       "<style scoped>\n",
       "    .dataframe tbody tr th:only-of-type {\n",
       "        vertical-align: middle;\n",
       "    }\n",
       "\n",
       "    .dataframe tbody tr th {\n",
       "        vertical-align: top;\n",
       "    }\n",
       "\n",
       "    .dataframe thead th {\n",
       "        text-align: right;\n",
       "    }\n",
       "</style>\n",
       "<table border=\"1\" class=\"dataframe\">\n",
       "  <thead>\n",
       "    <tr style=\"text-align: right;\">\n",
       "      <th></th>\n",
       "      <th>id</th>\n",
       "      <th>tipo</th>\n",
       "      <th>titulo</th>\n",
       "      <th>diretor</th>\n",
       "      <th>elenco</th>\n",
       "      <th>pais</th>\n",
       "      <th>data_disponibilizacao</th>\n",
       "      <th>ano_lancamento</th>\n",
       "      <th>classificacao</th>\n",
       "      <th>duracao</th>\n",
       "      <th>categorias</th>\n",
       "      <th>descricao</th>\n",
       "    </tr>\n",
       "  </thead>\n",
       "  <tbody>\n",
       "    <tr>\n",
       "      <th>0</th>\n",
       "      <td>s1</td>\n",
       "      <td>Movie</td>\n",
       "      <td>Dick Johnson Is Dead</td>\n",
       "      <td>Kirsten Johnson</td>\n",
       "      <td>NaN</td>\n",
       "      <td>United States</td>\n",
       "      <td>2021-09-25</td>\n",
       "      <td>2020</td>\n",
       "      <td>PG-13</td>\n",
       "      <td>90 min</td>\n",
       "      <td>Documentaries</td>\n",
       "      <td>As her father nears the end of his life, filmm...</td>\n",
       "    </tr>\n",
       "    <tr>\n",
       "      <th>1</th>\n",
       "      <td>s2</td>\n",
       "      <td>TV Show</td>\n",
       "      <td>Blood &amp; Water</td>\n",
       "      <td>NaN</td>\n",
       "      <td>Ama Qamata, Khosi Ngema, Gail Mabalane, Thaban...</td>\n",
       "      <td>South Africa</td>\n",
       "      <td>2021-09-24</td>\n",
       "      <td>2021</td>\n",
       "      <td>TV-MA</td>\n",
       "      <td>2 Seasons</td>\n",
       "      <td>International TV Shows, TV Dramas, TV Mysteries</td>\n",
       "      <td>After crossing paths at a party, a Cape Town t...</td>\n",
       "    </tr>\n",
       "    <tr>\n",
       "      <th>2</th>\n",
       "      <td>s3</td>\n",
       "      <td>TV Show</td>\n",
       "      <td>Ganglands</td>\n",
       "      <td>Julien Leclercq</td>\n",
       "      <td>Sami Bouajila, Tracy Gotoas, Samuel Jouy, Nabi...</td>\n",
       "      <td>NaN</td>\n",
       "      <td>2021-09-24</td>\n",
       "      <td>2021</td>\n",
       "      <td>TV-MA</td>\n",
       "      <td>1 Season</td>\n",
       "      <td>Crime TV Shows, International TV Shows, TV Act...</td>\n",
       "      <td>To protect his family from a powerful drug lor...</td>\n",
       "    </tr>\n",
       "    <tr>\n",
       "      <th>3</th>\n",
       "      <td>s4</td>\n",
       "      <td>TV Show</td>\n",
       "      <td>Jailbirds New Orleans</td>\n",
       "      <td>NaN</td>\n",
       "      <td>NaN</td>\n",
       "      <td>NaN</td>\n",
       "      <td>2021-09-24</td>\n",
       "      <td>2021</td>\n",
       "      <td>TV-MA</td>\n",
       "      <td>1 Season</td>\n",
       "      <td>Docuseries, Reality TV</td>\n",
       "      <td>Feuds, flirtations and toilet talk go down amo...</td>\n",
       "    </tr>\n",
       "    <tr>\n",
       "      <th>4</th>\n",
       "      <td>s5</td>\n",
       "      <td>TV Show</td>\n",
       "      <td>Kota Factory</td>\n",
       "      <td>NaN</td>\n",
       "      <td>Mayur More, Jitendra Kumar, Ranjan Raj, Alam K...</td>\n",
       "      <td>India</td>\n",
       "      <td>2021-09-24</td>\n",
       "      <td>2021</td>\n",
       "      <td>TV-MA</td>\n",
       "      <td>2 Seasons</td>\n",
       "      <td>International TV Shows, Romantic TV Shows, TV ...</td>\n",
       "      <td>In a city of coaching centers known to train I...</td>\n",
       "    </tr>\n",
       "  </tbody>\n",
       "</table>\n",
       "</div>"
      ],
      "text/plain": [
       "   id     tipo                 titulo          diretor  \\\n",
       "0  s1    Movie   Dick Johnson Is Dead  Kirsten Johnson   \n",
       "1  s2  TV Show          Blood & Water              NaN   \n",
       "2  s3  TV Show              Ganglands  Julien Leclercq   \n",
       "3  s4  TV Show  Jailbirds New Orleans              NaN   \n",
       "4  s5  TV Show           Kota Factory              NaN   \n",
       "\n",
       "                                              elenco           pais  \\\n",
       "0                                                NaN  United States   \n",
       "1  Ama Qamata, Khosi Ngema, Gail Mabalane, Thaban...   South Africa   \n",
       "2  Sami Bouajila, Tracy Gotoas, Samuel Jouy, Nabi...            NaN   \n",
       "3                                                NaN            NaN   \n",
       "4  Mayur More, Jitendra Kumar, Ranjan Raj, Alam K...          India   \n",
       "\n",
       "  data_disponibilizacao  ano_lancamento classificacao    duracao  \\\n",
       "0            2021-09-25            2020         PG-13     90 min   \n",
       "1            2021-09-24            2021         TV-MA  2 Seasons   \n",
       "2            2021-09-24            2021         TV-MA   1 Season   \n",
       "3            2021-09-24            2021         TV-MA   1 Season   \n",
       "4            2021-09-24            2021         TV-MA  2 Seasons   \n",
       "\n",
       "                                          categorias  \\\n",
       "0                                      Documentaries   \n",
       "1    International TV Shows, TV Dramas, TV Mysteries   \n",
       "2  Crime TV Shows, International TV Shows, TV Act...   \n",
       "3                             Docuseries, Reality TV   \n",
       "4  International TV Shows, Romantic TV Shows, TV ...   \n",
       "\n",
       "                                           descricao  \n",
       "0  As her father nears the end of his life, filmm...  \n",
       "1  After crossing paths at a party, a Cape Town t...  \n",
       "2  To protect his family from a powerful drug lor...  \n",
       "3  Feuds, flirtations and toilet talk go down amo...  \n",
       "4  In a city of coaching centers known to train I...  "
      ]
     },
     "execution_count": 722,
     "metadata": {},
     "output_type": "execute_result"
    }
   ],
   "source": [
    "df_tratado.head()"
   ]
  },
  {
   "cell_type": "code",
   "execution_count": null,
   "id": "e29c3d4b",
   "metadata": {},
   "outputs": [],
   "source": [
    "adultos = ['TV-MA', 'R', 'NR']\n",
    "crianca_adolescente = ['TV-14', 'TV-PG', 'PG-13', 'TV-Y7', 'TV-Y', 'PG', 'TV-G', 'G']"
   ]
  },
  {
   "cell_type": "code",
   "execution_count": null,
   "id": "2f73a9c7",
   "metadata": {},
   "outputs": [
    {
     "data": {
      "text/plain": [
       "(4086, 12)"
      ]
     },
     "execution_count": 729,
     "metadata": {},
     "output_type": "execute_result"
    }
   ],
   "source": [
    "# filtrando DataFrame utilizando uma lista\n",
    "df_tratado.query(\"classificacao in @adultos\").shape"
   ]
  },
  {
   "cell_type": "code",
   "execution_count": null,
   "id": "4feb11f2",
   "metadata": {},
   "outputs": [
    {
     "data": {
      "text/plain": [
       "(4702, 12)"
      ]
     },
     "execution_count": 731,
     "metadata": {},
     "output_type": "execute_result"
    }
   ],
   "source": [
    "# conteúdo para crianças e adolescentes\n",
    "df_tratado.query(\"classificacao in @crianca_adolescente\").shape"
   ]
  },
  {
   "cell_type": "code",
   "execution_count": null,
   "id": "19fa89b9",
   "metadata": {},
   "outputs": [],
   "source": []
  }
 ],
 "metadata": {
  "kernelspec": {
   "display_name": "Python 3 (ipykernel)",
   "language": "python",
   "name": "python3"
  },
  "language_info": {
   "codemirror_mode": {
    "name": "ipython",
    "version": 3
   },
   "file_extension": ".py",
   "mimetype": "text/x-python",
   "name": "python",
   "nbconvert_exporter": "python",
   "pygments_lexer": "ipython3",
   "version": "3.11.2"
  }
 },
 "nbformat": 4,
 "nbformat_minor": 5
}
